{
 "cells": [
  {
   "attachments": {},
   "cell_type": "markdown",
   "id": "43030140-9e03-4093-8440-134223a8bf7d",
   "metadata": {},
   "source": [
    "## Objective\n",
    "\n",
    "In this notebook, our objective is to use the model we fine-tuned in the previous notebook to create a synthetic dataset by extracting information from an unstructured corpus."
   ]
  },
  {
   "attachments": {
    "79a053c7-9165-492c-af4a-f00d077fc1d1.png": {
     "image/png": "[encoded data removed]"
    }
   },
   "cell_type": "markdown",
   "id": "5e58adaa-2576-468b-8958-628929ef0c13",
   "metadata": {},
   "source": [
    "![image.png](attachment:79a053c7-9165-492c-af4a-f00d077fc1d1.png)"
   ]
  },
  {
   "cell_type": "code",
   "execution_count": 2,
   "id": "a69e258a-0677-4f5a-b570-91b855146b27",
   "metadata": {},
   "outputs": [],
   "source": [
    "import langchain\n",
    "import zipfile\n",
    "import os\n",
    "import collections\n",
    "import pandas as pd\n",
    "\n",
    "from langchain.document_loaders import UnstructuredWordDocumentLoader\n",
    "from langchain.text_splitter import RecursiveCharacterTextSplitter"
   ]
  },
  {
   "cell_type": "markdown",
   "id": "5fa57c27-526d-4f9d-a5b4-b8acf04dd780",
   "metadata": {},
   "source": [
    "### Load documents from disk"
   ]
  },
  {
   "cell_type": "code",
   "execution_count": 3,
   "id": "449ac823-a113-4245-b82f-e518ebd6c63f",
   "metadata": {},
   "outputs": [
    {
     "name": "stdout",
     "output_type": "stream",
     "text": [
      "File successfully extracted.\n"
     ]
    }
   ],
   "source": [
    "with zipfile.ZipFile(\"R&I.zip\", 'r') as zip_ref:\n",
    "    zip_ref.extractall(\"R&I\")\n",
    "\n",
    "print(\"File successfully extracted.\")"
   ]
  },
  {
   "cell_type": "code",
   "execution_count": 4,
   "id": "184c1e3c-1730-48b6-b1e3-692a69dbcda2",
   "metadata": {},
   "outputs": [],
   "source": [
    "!pip install unstructured --q\n",
    "!pip install docx2txt --q\n",
    "!pip install python-docx -q\n",
    "!pip install openpyxl -q\n",
    "!pip install pdfminer -q"
   ]
  },
  {
   "cell_type": "code",
   "execution_count": 5,
   "id": "b1000099-267e-48e3-b6c0-d2fdb5eda107",
   "metadata": {},
   "outputs": [],
   "source": [
    "!pip install pdfminer.six -q"
   ]
  },
  {
   "cell_type": "markdown",
   "id": "b88831b9-f5d7-4451-88d5-2924342952ba",
   "metadata": {},
   "source": []
  },
  {
   "cell_type": "code",
   "execution_count": 6,
   "id": "a69e4e27-f84a-41c8-914a-4a66d2b9dce7",
   "metadata": {},
   "outputs": [
    {
     "name": "stdout",
     "output_type": "stream",
     "text": [
      "['.xlsx', '.docx', '.pptx', '.pdf', '.xlsm', '.doc', '.xlsb', '.xls', '.xltm', '.26 Shelf life Milks (ELN-DE-SOP-004)']\n"
     ]
    }
   ],
   "source": [
    "# Specify the directory path\n",
    "dir_path = './R&I/'\n",
    "\n",
    "# Get a list of all file extensions in the directory and its subdirectories\n",
    "file_exts = []\n",
    "for root, dirs, files in os.walk(dir_path):\n",
    "    for file in files:\n",
    "        _, ext = os.path.splitext(file)\n",
    "        file_exts.append(ext)\n",
    "\n",
    "# Count the number of files for each file extension\n",
    "file_ext_counts = collections.Counter(file_exts)\n",
    "\n",
    "# Print a list of unique file extensions\n",
    "unique_file_exts = list(file_ext_counts.keys())\n",
    "print(unique_file_exts)\n"
   ]
  },
  {
   "cell_type": "code",
   "execution_count": 7,
   "id": "5a9e96f7-2f05-48a0-b745-444de4c7235f",
   "metadata": {},
   "outputs": [
    {
     "name": "stdout",
     "output_type": "stream",
     "text": [
      "Number of files in dir 203\n"
     ]
    }
   ],
   "source": [
    "all_files_list = []\n",
    "\n",
    "for root, dirs, files in os.walk(dir_path):\n",
    "    for file in files:\n",
    "        file_name = os.path.join(root, file)\n",
    "        all_files_list.append(file_name)\n",
    "\n",
    "\n",
    "print(f\"Number of files in dir {len(all_files_list)}\")"
   ]
  },
  {
   "cell_type": "markdown",
   "id": "c2743efa-47d9-44f0-ba84-7b8e72b125df",
   "metadata": {},
   "source": [
    "## Split the documents into chuncks that will be passed into the model\n",
    "\n",
    "This is needed due to memory constraints, computational efficiency, and improved results. This approach can lead to better results by allowing the model to focus on specific content and avoid mixing different context within a single input. It's especially helpful for handling long documents that may challenge the model's ability to maintain context and coherence, and it's often employed during fine-tuning to ensure consistent input lengths\n",
    " "
   ]
  },
  {
   "cell_type": "code",
   "execution_count": 8,
   "id": "c276347d-2c4f-4fe9-bd47-a22bbdabeec9",
   "metadata": {},
   "outputs": [],
   "source": [
    "from langchain.document_loaders import DirectoryLoader, DataFrameLoader, UnstructuredPowerPointLoader, UnstructuredImageLoader, \\\n",
    "    UnstructuredMarkdownLoader, UnstructuredFileLoader, UnstructuredWordDocumentLoader, PyMuPDFLoader, PDFMinerLoader"
   ]
  },
  {
   "cell_type": "code",
   "execution_count": 9,
   "id": "da595365-ad36-4304-aefc-438d4f1670fb",
   "metadata": {},
   "outputs": [],
   "source": [
    "def read_excel(file_path):\n",
    "     # Read all sheets in the Excel file\n",
    "    xls = pd.ExcelFile(file_path)\n",
    "\n",
    "    # Store the data from all sheets\n",
    "    all_data = {}\n",
    "\n",
    "    # Iterate over each sheet and read its data\n",
    "    for sheet_name in xls.sheet_names:\n",
    "        # Read the current sheet into a DataFrame\n",
    "        df = pd.read_excel(file_path, sheet_name=sheet_name)\n",
    "        \n",
    "        # Store the DataFrame in the dictionary using sheet name as the key\n",
    "        all_data[sheet_name] = df\n",
    "\n",
    "    return all_data"
   ]
  },
  {
   "cell_type": "code",
   "execution_count": 10,
   "id": "88b2d8ac-ef41-4f33-b0c5-6821cfb4054d",
   "metadata": {
    "scrolled": true
   },
   "outputs": [
    {
     "name": "stdout",
     "output_type": "stream",
     "text": [
      "Error loading ./R&I/09. Country Specific/09. Country Specific/01. China/01. ELN/WD.02.02.20 UX Scorecard CN- TEMPLATE.pptx:  No module named 'pptx'\n",
      "Error loading ./R&I/08. Category Specific/08. Category Specific/01. Core Milks/WD.22.01.07 GIANT Compositional guidelines.doc:  soffice command was not found. Please install libreoffice\n",
      "on your system and try again.\n",
      "\n",
      "- Install instructions: https://www.libreoffice.org/get-help/install-howto/\n",
      "- Mac: https://formulae.brew.sh/cask/libreoffice\n",
      "- Debian: https://wiki.debian.org/LibreOffice\n",
      "Error loading ./R&I/03. Recipe Development/03. Recipe Development/01. Main Recipe Development/01. Vitamins & Minerals/WD.06.19.02 Premix development Training.pptx:  No module named 'pptx'\n",
      "Error loading ./R&I/03. Recipe Development/03. Recipe Development/04. Compliance - Regulatory/WD.28.00.04 NN Tool_Training for PD.pptx:  No module named 'pptx'\n",
      "Error loading ./R&I/07. Official PD Documents/07. Official PD Documents/01. PDS & LI/WD.16.01.03 PDS LI control document.docx:  list index out of range\n",
      "Error loading ./R&I/01. Induction/01. Induction/WD.03.01.01 PD induction deck.pptx:  No module named 'pptx'\n",
      "Loaded 110 documents\n",
      "Unable to load 6 documents\n",
      "CPU times: user 19.5 s, sys: 3.97 s, total: 23.4 s\n",
      "Wall time: 18.9 s\n"
     ]
    }
   ],
   "source": [
    "%%time\n",
    "\n",
    "file_type_list = ['pptx', 'docx', 'csv', 'jpg', 'png', 'md', 'txt', 'pdf']\n",
    "\n",
    "document_list = []\n",
    "unloaded_files_list = []\n",
    "\n",
    "for file_name in all_files_list:\n",
    "    if file_name.endswith(\".pptx\"):\n",
    "        try:\n",
    "            loader = UnstructuredPowerPointLoader(file_name)\n",
    "            data = loader.load()\n",
    "            document_list.extend(data) \n",
    "        except Exception as e:\n",
    "            print(f\"Error loading {file_name}:  {e}\")\n",
    "            unloaded_files_list.append(file_name)\n",
    "\n",
    "    elif file_name.endswith((\".docx\", \".doc\")):\n",
    "        try:\n",
    "            loader = UnstructuredWordDocumentLoader(file_name)\n",
    "            data = loader.load()\n",
    "            document_list.extend(data) \n",
    "        except Exception as e:\n",
    "            print(f\"Error loading {file_name}:  {e}\")\n",
    "            unloaded_files_list.append(file_name)\n",
    "\n",
    "    elif file_name.endswith(\".csv\"):\n",
    "        try:\n",
    "            df_temp = pd.read_csv(file_name, header=0)\n",
    "\n",
    "            loader = DataFrameLoader(df_temp, page_content_column = str(df_temp.columns[0]))\n",
    "            data = loader.load()\n",
    "            \n",
    "            if len(data) > 0:\n",
    "                for x in data:\n",
    "                    x.metadata['source'] = file_name\n",
    "                    \n",
    "            document_list.extend(data) \n",
    "        except Exception as e:\n",
    "            print(f\"Error loading {file_name}:  {e}\")\n",
    "            unloaded_files_list.append(file_name)\n",
    "            \n",
    "    elif file_name.endswith(\".xlsx\"):\n",
    "        continue\n",
    "        try:\n",
    "            all_data = read_excel(file_name)\n",
    "\n",
    "            for sheet_name, df_temp in all_data.items():\n",
    "                try:\n",
    "                    # print(list(df_temp.columns))\n",
    "                    loader = DataFrameLoader(df_temp, page_content_column = str(df_temp.columns[0]))\n",
    "                    data = loader.load()\n",
    "                    \n",
    "                    if len(data) > 0:\n",
    "                        for x in data:\n",
    "                            x.metadata['source'] = file_name\n",
    "                    \n",
    "                    document_list.extend(data) \n",
    "                except Exception as e:\n",
    "                    print(f\"Error loading sheet in excel {file_name}: {sheet_name} {e}\")\n",
    "                    unloaded_files_list.append(f\"{sheet_name} {file_name}\")\n",
    "\n",
    "                    ## To Do\n",
    "                    ## Try to convert to pdf and read it\n",
    "\n",
    "        except Exception as e:\n",
    "            print(f\"Error loading {file_name}:  {e}\")\n",
    "            unloaded_files_list.append(file_name)\n",
    "            \n",
    "            \n",
    "    elif file_name.endswith((\".png\", \".jpg\")):\n",
    "        try:\n",
    "            ## To Do: Work on Detectron2 that is stopping this from loading\n",
    "            loader = UnstructuredImageLoader(file_name)\n",
    "            data = loader.load()\n",
    "            document_list.extend(data) \n",
    "        except Exception as e:\n",
    "            print(f\"Error loading {file_name}:  {e}\")\n",
    "            unloaded_files_list.append(file_name)\n",
    "            \n",
    "    elif file_name.endswith(\".md\"):\n",
    "        try:\n",
    "            print(file_name)\n",
    "            loader = UnstructuredMarkdownLoader(file_name)\n",
    "            data = loader.load()\n",
    "            document_list.extend(data) \n",
    "        except Exception as e:\n",
    "            print(f\"Error loading {file_name}:  {e}\")\n",
    "            unloaded_files_list.append(file_name)\n",
    "            \n",
    "    elif file_name.endswith(\".txt\"):\n",
    "        try:\n",
    "            loader = UnstructuredFileLoader(file_name)\n",
    "            data = loader.load()\n",
    "            document_list.extend(data) \n",
    "        except Exception as e:\n",
    "            print(f\"Error loading {file_name}:  {e}\")\n",
    "            unloaded_files_list.append(file_name)\n",
    "            \n",
    "    elif file_name.endswith(\".pdf\"):\n",
    "        try:\n",
    "            loader = PDFMinerLoader(file_name)\n",
    "            data = loader.load()\n",
    "            document_list.extend(data) \n",
    "        except Exception as e:\n",
    "            print(f\"Error loading {file_name}:  {e}\")\n",
    "            unloaded_files_list.append(file_name)\n",
    "            \n",
    "print(f\"Loaded {len(document_list)} documents\")\n",
    "print(f\"Unable to load {len(unloaded_files_list)} documents\")"
   ]
  },
  {
   "cell_type": "code",
   "execution_count": 12,
   "id": "30763118-d63a-4b1b-91f3-43ee8604d889",
   "metadata": {},
   "outputs": [
    {
     "name": "stdout",
     "output_type": "stream",
     "text": [
      "Loaded 110 documents\n",
      "Unable to load 6 documents\n"
     ]
    }
   ],
   "source": [
    "print(f\"Loaded {len(document_list)} documents\")\n",
    "print(f\"Unable to load {len(unloaded_files_list)} documents\")"
   ]
  },
  {
   "cell_type": "code",
   "execution_count": null,
   "id": "37e7ac0e-442b-45fd-ad89-4c1883871ce3",
   "metadata": {},
   "outputs": [],
   "source": []
  },
  {
   "cell_type": "code",
   "execution_count": 13,
   "id": "fc28b990-efe9-4271-af89-98446de8b006",
   "metadata": {},
   "outputs": [
    {
     "data": {
      "text/plain": [
       "709"
      ]
     },
     "execution_count": 13,
     "metadata": {},
     "output_type": "execute_result"
    }
   ],
   "source": [
    "text_splitter = RecursiveCharacterTextSplitter(\n",
    "    chunk_size = 2000,\n",
    "    chunk_overlap  = 200,\n",
    "    length_function = len,\n",
    ")\n",
    "texts = text_splitter.split_documents(document_list)\n",
    "\n",
    "len(texts)"
   ]
  },
  {
   "cell_type": "code",
   "execution_count": null,
   "id": "a2a00820-28db-445a-af96-1c51a8f858ef",
   "metadata": {},
   "outputs": [],
   "source": []
  },
  {
   "cell_type": "code",
   "execution_count": 14,
   "id": "d7e64794-de7d-47ed-8db8-d1d9a099c25e",
   "metadata": {},
   "outputs": [
    {
     "name": "stdout",
     "output_type": "stream",
     "text": [
      "Table 2. Summarizing the target R&D recommendation Bifidobacterium breve M-16V dosing for different products at the end of shelf-life and with a tolerable deviation of +/- 0.5 log (R&D Position paper of 31-01-2017).\n",
      "\n",
      "Partially hydrolyzed proteins\n",
      "\n",
      "The pHP product consists of 100% hydrolyzed whey proteins. No casein protein is present in these products. The hydrolysate should be produced according to the description in the relevant EGD (PD Manual WD.22.01.02). The IF protein target is 2.3 g/100 kcal at minimum of legislation. Range of EC legislation is 1.8-3.0 g/100 kcal. FO protein target is 2.4 g/100 kcal according to nutritional insights at moment of development of 123611 HA 2. Range of legislation is 2.25-3.5 g/100 kcal. Internally in PD, hydrolysates are designed with +/- 5 % tolerable deviation.\n",
      "\n",
      "Extensively hydrolyzed proteins\n",
      "\n",
      "The EHP product contains 100% hydrolyzed whey protein and no casein proteins.  The hydrolysate should be produced according to the description in the relevant EGD (PD Manual WD.22.01.03). The IF protein target is 2.4 g/100 kcal, with the range of EC legislation is 2.25 – 2.8 g/100 kcal. Protein target is 2.4 g/100 kcal according to nutritional insights at moment of development of 121238. Range of legislation is 1.86 - 2.8 g/100 kcal. Internally in PD, hydrolysates are designed with +/- 5 % tolerable deviation.\n",
      "\n",
      "Process parameters\n",
      "\n",
      "Partially hydrolyzed proteins\n",
      "\n",
      "The pHP Syneo (semi) finished goods are currently made in 4 locations:\n",
      "\n",
      "Steenvoorde – Hydrolysate and base powders\n",
      "\n",
      "Wexford & Opole – blend and packed finished product\n",
      "\n",
      "Liverpool – blending of probiotic preblend on MD carrier\n",
      "\n",
      "The blending trial is consisting of:\n",
      "\n",
      "Probiotic pre-blend received from factory in Liverpool as semi-finished product \n",
      "\n",
      "Blending step in a twin shaft paddle blender; blend size 1000 kg. \n",
      "\n",
      "Filling and Packing in EZP on line 2. Line 3 has been tested and is technically capable.\n",
      "\n",
      "Extensively  hydrolyzed proteins\n"
     ]
    }
   ],
   "source": [
    "print(texts[80].page_content)"
   ]
  },
  {
   "cell_type": "code",
   "execution_count": null,
   "id": "b49e4b75-7fad-4cb6-8e3b-e246e38ae459",
   "metadata": {},
   "outputs": [],
   "source": []
  },
  {
   "cell_type": "code",
   "execution_count": null,
   "id": "aafd21e4-113e-4469-9bc9-cbd6b44a2c9f",
   "metadata": {},
   "outputs": [],
   "source": []
  },
  {
   "cell_type": "code",
   "execution_count": null,
   "id": "d98a37d2-a7b3-4f4d-b866-f8b5777775a8",
   "metadata": {},
   "outputs": [],
   "source": []
  },
  {
   "cell_type": "markdown",
   "id": "f143d829-6248-4267-bf1d-f31273a760bf",
   "metadata": {},
   "source": [
    "### Load model and generate questions"
   ]
  },
  {
   "cell_type": "code",
   "execution_count": 15,
   "id": "6bf92976-4a7c-46a3-baf4-2850f1c83c9b",
   "metadata": {},
   "outputs": [
    {
     "name": "stdout",
     "output_type": "stream",
     "text": [
      "GPU Information:\n",
      "GPU 0:\n",
      "  Total Memory: 23028 MB\n",
      "  Free Memory: 19897 MB\n",
      "  Used Memory: 2618 MB\n",
      "GPU 1:\n",
      "  Total Memory: 23028 MB\n",
      "  Free Memory: 18367 MB\n",
      "  Used Memory: 4148 MB\n",
      "GPU 2:\n",
      "  Total Memory: 23028 MB\n",
      "  Free Memory: 18367 MB\n",
      "  Used Memory: 4148 MB\n",
      "GPU 3:\n",
      "  Total Memory: 23028 MB\n",
      "  Free Memory: 10661 MB\n",
      "  Used Memory: 11854 MB\n"
     ]
    }
   ],
   "source": [
    "import helper\n",
    "import time\n",
    "import torch\n",
    "from transformers import AutoTokenizer, AutoModelForCausalLM, BitsAndBytesConfig\n",
    "from peft import AutoPeftModelForCausalLM\n",
    "\n",
    "helper.check_gpu_capacity()"
   ]
  },
  {
   "cell_type": "code",
   "execution_count": 16,
   "id": "362bad82-fc34-46ee-b64e-7d0e30cae127",
   "metadata": {},
   "outputs": [
    {
     "data": {
      "application/vnd.jupyter.widget-view+json": {
       "model_id": "e83f2bef107941d78db5955ef3aff917",
       "version_major": 2,
       "version_minor": 0
      },
      "text/plain": [
       "Loading checkpoint shards:   0%|          | 0/2 [00:00<?, ?it/s]"
      ]
     },
     "metadata": {},
     "output_type": "display_data"
    }
   ],
   "source": [
    "model_dir = \"models/peft-llama-7-int4-instruct-generation-training\"\n",
    "\n",
    "# load base LLM model and tokenizer\n",
    "model = AutoPeftModelForCausalLM.from_pretrained(\n",
    "    model_dir,\n",
    "    low_cpu_mem_usage=True,\n",
    "    torch_dtype=torch.float16,\n",
    "    load_in_4bit=True,\n",
    ")\n",
    "tokenizer = AutoTokenizer.from_pretrained(model_dir)\n"
   ]
  },
  {
   "cell_type": "markdown",
   "id": "5c0e1530-c1de-48a1-a10b-49df560e4a21",
   "metadata": {},
   "source": [
    "### Define your data\n",
    "```\n",
    "instruction_set = {\n",
    "    \"instruction\": [\"where do aliens come from\", \"This is a sample sentence.\", \"Another example.\"],\n",
    "    \"response\": [\"Space\", \"This is a sample sentence.\", \"Another example.\"]\n",
    "}\n",
    "```"
   ]
  },
  {
   "cell_type": "code",
   "execution_count": 17,
   "id": "8a794fe7-bb76-4c07-a8ab-fc83a37004f5",
   "metadata": {},
   "outputs": [],
   "source": [
    "instruction_set = {\n",
    "    \"instruction\": [],\n",
    "    \"response\": []\n",
    "}"
   ]
  },
  {
   "cell_type": "markdown",
   "id": "613851de-7b61-403f-80f6-ecc71d5367a9",
   "metadata": {
    "jupyter": {
     "source_hidden": true
    }
   },
   "source": [
    "### Might take 1hr"
   ]
  },
  {
   "cell_type": "code",
   "execution_count": 51,
   "id": "54977728-ade4-45ba-be0e-60adb55e9e54",
   "metadata": {
    "jupyter": {
     "source_hidden": true
    }
   },
   "outputs": [
    {
     "name": "stdout",
     "output_type": "stream",
     "text": [
      "CPU times: user 55min 20s, sys: 2min 5s, total: 57min 26s\n",
      "Wall time: 57min 25s\n"
     ]
    }
   ],
   "source": [
    "%%time\n",
    "\n",
    "for text in texts:\n",
    "    the_text = text.page_content\n",
    "    prompt = f\"\"\"### Instruction:\n",
    "    Use the Input below to create an instruction, which could have been used to generate the input using an LLM. \n",
    "\n",
    "    {the_text}\n",
    "    \n",
    "    ### Response:\n",
    "    \"\"\"\n",
    "\n",
    "    input_ids = tokenizer(prompt, return_tensors=\"pt\", \n",
    "                                     # max_length=4000,\n",
    "                                     truncation=True\n",
    "                                    ).input_ids.cuda()\n",
    "    # with torch.inference_mode():\n",
    "    outputs = model.generate(input_ids=input_ids, max_new_tokens=100, \n",
    "                            do_sample=True, \n",
    "                             top_p=0.8, \n",
    "                             temperature=0.2\n",
    "                                       )\n",
    "    \n",
    "    outputs = tokenizer.batch_decode(outputs.detach().cpu().numpy(), skip_special_tokens=True)[0][len(prompt):]\n",
    "    \n",
    "    if \"### Response:\" in outputs:\n",
    "        outputs = outputs.split(\"### Response:\")[1]\n",
    "    outputs = outputs.strip(' ').strip('\\n')\n",
    "    outputs = outputs.split('\\n')[0].strip(' ')\n",
    "    \n",
    "    # input_ids = tokenizer(prompt, return_tensors=\"pt\", truncation=True).input_ids.cuda()\n",
    "    # # with torch.inference_mode():\n",
    "    # outputs = model.generate(input_ids=input_ids, max_new_tokens=200, do_sample=True, top_p=0.9,temperature=0.2)\n",
    "    # generated_instruction = tokenizer.batch_decode(outputs.detach().cpu().numpy(), skip_special_tokens=True)[0][len(prompt):]\n",
    "    # generated_instruction = generated_instruction.split('\\n')[0].strip()\n",
    "    \n",
    "    # print(f\"#### Text:\\n\\n{the_text}\\n\")\n",
    "    # print(f\"#### Generated instruction:\\n\\n{generated_instruction?}\")\n",
    "    \n",
    "    \n",
    "    # print(f\"Ground truth:\\n{sample_ds['instruction']}\")\n",
    "    instruction_set[\"instruction\"].append(outputs)\n",
    "    instruction_set[\"response\"].append(text.page_content)"
   ]
  },
  {
   "cell_type": "markdown",
   "id": "4544d943-0895-4bd1-b3e4-d496aa7b49ca",
   "metadata": {},
   "source": [
    "### Save as dataset"
   ]
  },
  {
   "cell_type": "code",
   "execution_count": 53,
   "id": "349bddef-2ce3-46e2-9bac-68af4ddbfe72",
   "metadata": {},
   "outputs": [
    {
     "data": {
      "application/vnd.jupyter.widget-view+json": {
       "model_id": "",
       "version_major": 2,
       "version_minor": 0
      },
      "text/plain": [
       "Filter:   0%|          | 0/709 [00:00<?, ? examples/s]"
      ]
     },
     "metadata": {},
     "output_type": "display_data"
    },
    {
     "data": {
      "text/plain": [
       "Dataset({\n",
       "    features: ['instruction', 'response'],\n",
       "    num_rows: 708\n",
       "})"
      ]
     },
     "execution_count": 53,
     "metadata": {},
     "output_type": "execute_result"
    }
   ],
   "source": [
    "from datasets import Dataset, load_from_disk\n",
    "\n",
    "dataset = Dataset.from_dict(instruction_set)\n",
    "dataset = dataset.filter(lambda x: x['instruction'] != '')\n",
    "dataset\n",
    "\n",
    "\n"
   ]
  },
  {
   "cell_type": "code",
   "execution_count": 54,
   "id": "91a9a988-b764-494b-b1f3-f705ca94b6d4",
   "metadata": {},
   "outputs": [
    {
     "data": {
      "application/vnd.jupyter.widget-view+json": {
       "model_id": "",
       "version_major": 2,
       "version_minor": 0
      },
      "text/plain": [
       "Saving the dataset (0/1 shards):   0%|          | 0/708 [00:00<?, ? examples/s]"
      ]
     },
     "metadata": {},
     "output_type": "display_data"
    }
   ],
   "source": [
    "dataset.save_to_disk(\"generated-dataset/peft-llama-7-int4-instruct-generation\")"
   ]
  },
  {
   "cell_type": "code",
   "execution_count": 55,
   "id": "490a708d-7ebf-4410-8cd6-8f5083933afb",
   "metadata": {},
   "outputs": [],
   "source": [
    "\n",
    "# Load the dataset from disk\n",
    "dataset_loaded = load_from_disk(\"generated-dataset/peft-llama-7-int4-instruct-generation\")"
   ]
  },
  {
   "cell_type": "code",
   "execution_count": 56,
   "id": "376d9ab8-be57-4833-b1ce-ebc0f4f4ad08",
   "metadata": {},
   "outputs": [
    {
     "data": {
      "text/plain": [
       "Dataset({\n",
       "    features: ['instruction', 'response'],\n",
       "    num_rows: 708\n",
       "})"
      ]
     },
     "execution_count": 56,
     "metadata": {},
     "output_type": "execute_result"
    }
   ],
   "source": [
    "dataset_loaded"
   ]
  },
  {
   "cell_type": "code",
   "execution_count": 57,
   "id": "aeed0196-8991-4e14-a7cf-1e375e70a175",
   "metadata": {},
   "outputs": [
    {
     "name": "stdout",
     "output_type": "stream",
     "text": [
      "### Instruction ###\n",
      "\n",
      "What clinical studies are linked to the eHP engine?\n",
      "\n",
      "### Response ###\n",
      "\n",
      "Clinical studies linked to the eHP engine\n",
      "\n",
      "The eHP engine is linked to the clinical studies described below. This means that the engine that was tested in these clinical studies need to remain unaltered when these studies are used for communication of safety and efficacy of the eHP product.\n",
      "\n",
      "Verwimp 1995: Hydrolysate only\n",
      "\n",
      "Inclusion between 1990-1991. Clinical Study Report unavailable\n",
      "\n",
      "Both Pepti and Pepti Junior resulted in normal growth\n",
      "\n",
      "Both Pepti and Pepti Junior decreased allergic symptoms \n",
      "\n",
      "Giampietro 2001: Hydrolysate only\n",
      "\n",
      "1998-1999. Clinical Study Report unavailable\n",
      "\n",
      "A total of 97% of participating children diagnosed with CMA tolerated Pepti\n",
      "\n",
      "Pepti can be considered safe for its intended use\n",
      "\n",
      "Moro 2006: Hydrolysate + prebiotics\n",
      "\n",
      "Inclusion between 2003-2005. Clinical Study Report unavailable\n",
      "\n",
      "Cumulative incidence of atopic dermatitis in prebiotic group was significantly reduced during first 6 months of life\n",
      "\n",
      "Supplementation with prebiotics resulted in increased numbers of bifidobacteria\n",
      "\n",
      "Pampura 2014: Hydrolysate + prebiotics\n",
      "\n",
      "Unknown. Clinical Study Report unavailable\n",
      "\n",
      "SCORAD score decreased notably (26.66 to 6.63)\n",
      "\n",
      "The need for topical therapy was lowered (glucocorticosteroids (more than 80%), zinc-containing medication (by 92%), systemic antihistamines or steroids (100% reduction))\n",
      "\n",
      "ATOS 2016: Hydrolysate + synbiotics\n",
      "\n",
      "FSI-LSO 2005-2007. Clinical Study Report 15-4-2013\n",
      "\n",
      "No equivalence on growth could be demonstrated. Control group grew faster than synbiotic group. However, synbiotic group does not diverge from WHO growth curve\n",
      "\n",
      "Microbiota composition changed favourably in the synbiotic group compared to the control group\n",
      "\n",
      "Study shows that Pepti Synbiotics is safe and stimulates adequate growth\n",
      "\n",
      "SYNBAD: Hydrolysate + synbiotics\n",
      "\n",
      "FSI-LSO 2005-2007(last FU 2008). Clinical Study Report 22-04-2010\n",
      "------------------------------\n",
      "### Instruction ###\n",
      "\n",
      "Extract the results of the study and separate them with a comma.\n",
      "\n",
      "### Response ###\n",
      "\n",
      "Study shows that Pepti Synbiotics is safe and stimulates adequate growth\n",
      "\n",
      "SYNBAD: Hydrolysate + synbiotics\n",
      "\n",
      "FSI-LSO 2005-2007(last FU 2008). Clinical Study Report 22-04-2010\n",
      "\n",
      "No difference in SCORAD score between groups could be demonstrated. However, in both groups SCORAD score decreased significantly during the intervention period. Therefore, the synbiotic mixture does not have an added beneficial effect in decreasing atopic dermatitis severity\n",
      "\n",
      "In the subgroup of infants with IgE-mediated atopic dermatitis, SCORAD scores improved significantly in the synbiotic group compared to the control group\n",
      "\n",
      "Microbiota composition is successfully modulated in active group\n",
      "\n",
      "For all questions related to clinical studies related to this product you can contact:\n",
      "\n",
      "hydrolysate.engine@danone.com\n",
      "\n",
      "APPENDIX \n",
      "\n",
      "\n",
      "\n",
      "Template Pepti or Pepti Jr engine evaluation by HEET \t\t \n",
      "\n",
      "Project name\t\t\t:\n",
      "\n",
      "Background of the project\t:\n",
      "\n",
      "Name and role of requester\t:\n",
      "\n",
      "Date of request\t\t\t:\n",
      "\n",
      "Aim of the trial\t\t\t:\n",
      "\n",
      "Change compared to reference\t: e.g. recipe, process etc\n",
      "\n",
      "Type of trial (lab/pilot/factory)\t:  \n",
      "\n",
      "Recipe (21XXXX)s:\n",
      "\n",
      "                                 REFERENCE       Test 1          Test 2\n",
      "IS code  raw material  Supplier  Kg /150Kg hydr  Kg /150Kg hydr  Kg /150Kg hydr\n",
      "\n",
      "\n",
      "\n",
      "\n",
      "\n",
      "\n",
      "\n",
      "\n",
      "\n",
      "\n",
      "Criteria to be evaluated\n",
      "\n",
      "Lab trial:\n",
      "\n",
      "Gel permeation chromatography\n",
      "Superdex 30 Increase 10/300 GL (Cytivia)\n",
      "\n",
      "Pilot plant & factory trial:\n",
      "\n",
      "Gel permeation chromatography\t(Superdex 30 Increase 10/300 GL (Cytivia))\n",
      "\n",
      "Beta-Lactoglobulin (BLG) ELISA\t\t: ELISA systems\n",
      "\n",
      "RBL assay\t\t\t\t: request at PolPharma via CoE Immunology\n",
      "\n",
      "Results:\n",
      "------------------------------\n",
      "### Instruction ###\n",
      "\n",
      "What is the SOP for the engine guidance?\n",
      "\n",
      "### Response ###\n",
      "\n",
      "Gel permeation chromatography\t(Superdex 30 Increase 10/300 GL (Cytivia))\n",
      "\n",
      "Beta-Lactoglobulin (BLG) ELISA\t\t: ELISA systems\n",
      "\n",
      "RBL assay\t\t\t\t: request at PolPharma via CoE Immunology\n",
      "\n",
      "Results:\n",
      "\n",
      "Engine parameter Pepti / Pepti Jr                SPECIFICATION    SPECIFICATION    Test 1    Test 2\n",
      "BLG (ELISA SYSTEMS                               < 0.2 PPM        < 0.2 PPM\n",
      "RBL                                              Negative         Negative\n",
      "GPC Dalton (Superdex peptide column)             Pepti  (%)       Pepti Jr (%)\n",
      ">10 kDa                                          0 - 0.2          0 – 0.1\n",
      "5 – 10 kDa                                       0 - 0.8          0 – 3.4\n",
      "3 – 5 kDa                                        0.7 – 3.8        1.3 – 12.0\n",
      "1 – 3 kDa                                        15.2 – 26.1      23.9 – 39.0\n",
      "0.5 – 1 kDa                                      22.1 – 27.6      19.0 – 32.8\n",
      "< 0.5 kDa                                        42.0 – 61.9      28.0 – 49.3\n",
      "Scale of trial production (lab, pilot, factory)  -                -\n",
      "\n",
      "Printed: 24 February 2022, 1:08 PM\tEngine Guidance doc eHP_\n",
      "\n",
      "\n",
      "SOP <Title>\t\tPage 1 of 13\n",
      "Version 1 (draft1); 21-06-2005\n",
      "------------------------------\n",
      "### Instruction ###\n",
      "\n",
      "Based on the provided text, what are the benefits of the pHP hydrolysate?\n",
      "\n",
      "### Response ###\n",
      "\n",
      "Engine guidance document for partially hydrolyzed protein (pHP) for allergy prevention\n",
      "\n",
      "Hydrolysate recipes 217070, 217071, 217072, 217075 and 217777\n",
      "\n",
      "Validated by: Anne HOLS, Aveenash BALA, Denis DELAMBRE, Nefeli GEORGAKA, Karen KNIPPING, Katerina JEZKOVA and Xue JIANG\n",
      "\n",
      "Purpose of this document: \n",
      "\n",
      "In the scope of IFFO and YCF, new innovations can be captured as engines. An engine is a specific ingredient or a combination of ingredients specifically processed to obtain a clinically proven health benefit of the product in which it is contained. This document describes the engine of the pHP hydrolysate for allergy prevention (referred to as pHP in the rest of the document) and how changes in the hydrolysate recipe and process should be evaluated to make sure that the engine remains secured. The intended audience for this document is supply points that produce pHP hydrolysates and/or products containing these recipes, and R&I (including local PD teams). The pHP hydrolysate recipe codes are 217070 (non-halal) 217071 (MIDAS), 217072 (Wheytrix), 217075 (MIDAS with powder enzymes) and 217777 (China) and will be referred to as 21XXXX in this document. Recipe 217072 (Wheytrix, master recipe, version 1) has been used in the pHP Regulatory Dossier that was submitted to EFSA in 2020. \n",
      "\n",
      "Introduction to the engine and link to the benefits \n",
      "\n",
      "Target population\n",
      "\n",
      "The target population consists of infants up to twelve months of age that cannot be breastfed or are partially breastfed. Partially hydrolyzed whey protein based infant & follow on formulas are recommended for infants with a family history of allergic disease.\n",
      "\n",
      "Benefits\n",
      "------------------------------\n",
      "### Instruction ###\n",
      "\n",
      "What is the engine of pHP?\n",
      "\n",
      "### Response ###\n",
      "\n",
      "Benefits\n",
      "\n",
      "pHP consists of partially hydrolyzed whey protein. In pHP, the whey protein is hydrolyzed enzymatically (broken down) into peptides with the goal to reduce the molecular weight, peptide size and as such, the sensitizing capacity of the proteins. Since partial hydrolysates may contain some large fragments of protein, they may still induce allergic symptoms in cow’s milk allergic (CMA) children, therefore, they are suitable for infants at risk of developing allergies, but not for those with diagnosed CMA. \n",
      "\n",
      "\n",
      "Safety of the pHP product has been demonstrated by preclinical (in vitro, in vivo) as well as clinical data (growth, tolerance, and formula intake and blood safety parameters). From the in vitro and in vivo studies, it can be concluded that the formula of interest contains <1% of immunoreactive proteins (≈0.1716%) and does not induce sensitization to the intact protein from which the hydrolysate is prepared. \n",
      "\n",
      "Engine\n",
      "\n",
      "The engine of pHP linked to the benefits described above is the partially hydrolyzed whey protein hydrolysate produced inhouse and tested in several in vitro and in vivo studies. The 21XXXX recipes, the raw materials included in these recipes and the processing of these 21XXXX recipes are considered specific for the engine and therefore, need to remain unaltered to secure engine composition and efficacy. The engine is included in the base powder and finally in the end product according to the schema depicted in Figure 1.\n",
      "\n",
      "\n",
      "Figure 1: An illustration of how the pHP engine is incorporated in the base powder and final product\n",
      "------------------------------\n",
      "### Instruction ###\n",
      "\n",
      "Based on the following passage, what is the difference between HA and hydrolyzed protein?\n",
      "\n",
      "### Response ###\n",
      "\n",
      "Figure 1: An illustration of how the pHP engine is incorporated in the base powder and final product\n",
      "\n",
      "Key features of the 21XXXX recipe that should remain unaltered are the ratios between: enzyme activity/protein, protein/ OH-, enzyme/enzyme. If changes are required due to e.g. raw material supply / dual sourcing, factory changes, addition of process aids such as emulsifiers etc., the engine needs to be evaluated based on experimental data obtained from a specific experimental plan as described in the following sections. The evaluation is done by the HEET (described below) who can advise on the experimental protocol and assess the compliance of the engine  with respect to the engine specs. The execution of the experiments shall be carried out by any accountable group in R&I (e.g., PD PSQC in case of protein dual sourcing, Factory Tech or PAT team in case of process adjustment etc.).\n",
      "\n",
      "\n",
      "In Bestmix currently the recipes with pHP from 0-6 months are indicated with HA (hypo allergenicity) and the ones from 6-12 months with hydrolyzed protein as ingredient. This is due to the fact that currently the communication on hypo allergenicity is only allowed only for 0-6 months. With the new EFSA legislation (2020) also this communication will not be allowed anymore for 0-6 months unless proven by clinical evidence (ongoing Maestro study).\n",
      "------------------------------\n",
      "### Instruction ###\n",
      "\n",
      "Based on the following passage, who is on the HEET team?\n",
      "\n",
      "### Response ###\n",
      "\n",
      "Additionally, it needs to be noted that the part of the recipe and process that is not described in this document are not directly linked to securing the engine as long as all raw materials added at this stage are protein free, and cleaning of the line to prevent cross contamination with intact protein is validated and monitored. These requirements are secured by the engine parameters on β-lactoglobulin and casein (method under development) in the product specification powder (PSP) as described below. In addition, also raw materials containing other intact proteins besides cow milk (e.g. sheep, goat, soy etc) should be evaluated by the HEET and QFS before introduction into these products.\n",
      "\n",
      "Hydrolysate engine expert team (HEET)\n",
      "\n",
      "In case changes are needed in the 21XXXX recipe or process, an experimental plan provided in cooperation with the CoE Engine team or CoE Product Development team, (in case of recipe change) or CoE Process team (in case of process change) etc needs to be created and the results of the trials need to be evaluated by the HEET to assess how the engine might be impacted upon that specific change. \n",
      "\n",
      "The HEET is a cross functional R&I team with a background in hydrolysate production and evaluation. Currently the core team consists of five members representing; Immunology, CoE Process, CoE Engines, and COE Product Development (Figure 2). When required, the team is temporarily expanded with experts on a specific fields, to enable delivery of the most appropriate recommendation per request. The team is endorsed by the higher management of each discipline and has a clear RACI to support the workflow.\n",
      "\n",
      "FIGURE 2: The HEET is a cross functional R&I team with a background in hydrolysate production and evaluation. The core team consists of members representing; Immunology, CoE Process, CoE Engines, and COE Product Development.\n",
      "------------------------------\n",
      "### Instruction ###\n",
      "\n",
      "Based on the passage provided, what are the key engine parameters for product/ process?\n",
      "\n",
      "### Response ###\n",
      "\n",
      "An evaluation from the expert team can be requested at hydrolysate.engine@danone.com or via one of the members. Normally a recommendation is available within one week after the request given that all analytical results are provided in an orderly manner. The typical workflow for an engine related change is shown in Figure 3. HEET recommends that all results from the experimental plan be evaluated by the HEET at every Stage Gate (lab  pilot and / or pilot  factory). \n",
      "\n",
      "FIGURE 3: The typical decision tree that HEET uses for engine evaluation; indicating the specific engine parameters that needs to be analyzed at the lab, pilot or factory trial stage.\n",
      "\n",
      "Engine parameters for product/ process \n",
      "\n",
      "Parameters\n",
      "\n",
      "The key release parameter for production related to the pHP engine is the intact protein content: β-lactoglobulin, which is measured using BLG ELISA and casein, where a ELISA method is in development / validation. In addition, the molecular weight distribution measured using gel permeation chromatography (GPC), is used as monitoring parameter. In general, the experimental approach for engine evaluation will include a combination of trials (lab, pilot, and factory) with specific parameters to evaluate and both the release and monitoring parameters should be within specification for all trials executed. \n",
      "\n",
      "Based on risk assessment, it can be recommended to undertake the RBL assay, mass spectrometry measurements and/or animal studies to evaluate the complete impact of the change, depending on the proposed change. Results of these trials should always be discussed with the HEET, who will provide the final Go / No Go recommendation for implementation of the change.\n",
      "------------------------------\n",
      "### Instruction ###\n",
      "\n",
      "What is the HEET methodology?\n",
      "\n",
      "### Response ###\n",
      "\n",
      "For all pHP engines, the composition is described in the recipes own by PD, whereas the process steps and the target parameters (heat, time) are captured in the General Technical Specification owned by the COE Process. The main process parameters are described in the process flow chart below. When complied to, these target parameters will ensure that all product engine release and monitoring criteria are within specification. Additionally, the pH curve during hydrolysis is indicative of the quality of the process and therefore should be monitored in the factory.\n",
      "\n",
      "The degree of hydrolysis, which can be measured by the Formol Titration Method, is not assessed on a frequent basis (only upon specific request e.g. change in factory). However, since this parameter is often requested by stakeholders outside R&I, they should be incorporated in the PSP once sufficient data sets have been generated.\n",
      "\n",
      "HEET decision tree\n",
      "\n",
      "Figure 3 illustrates the typical decision tree that HEET uses for engine evaluation; indicating which engine parameters should be analyzed at the lab, pilot or factory trial stage. In case of doubt please contact hydrolysate.engine@danone.com to align on the requirements before executing the trial. \n",
      "\n",
      "The methodology indicated in grey is either under revision (Casein) or under development (mass spec fingerprinting) and therefore is currently out of scope for engine evaluation.\n",
      "\n",
      "Recipes\n",
      "------------------------------\n",
      "### Instruction ###\n",
      "\n",
      "What are the raw materials that can be used in the 21XXXX recipe?\n",
      "\n",
      "### Response ###\n",
      "\n",
      "The methodology indicated in grey is either under revision (Casein) or under development (mass spec fingerprinting) and therefore is currently out of scope for engine evaluation.\n",
      "\n",
      "Recipes  \n",
      "\n",
      "The key features of the 21XXXX recipe that should remain unaltered are e.g. the ratios between: enzyme activity/ protein, protein/ OH-, enzyme/enzyme and the dry matter. In case one of the hydroxides needs to be replaced, the ratio between OH - and protein should be calculated in moles (not in gram). For more information on hydrolysate recipe development please use instruction IN.06.05 in the PD manual. In addition, calculation examples (e.g. OH-/protein ratio) can be found in working document WD.06.05.01 in the PD manual. Please be aware that master recipes or factory-specific recipes can allow to use alternative raw materials e.g. powder vs. liquid whey sources, which might alter the OH-/protein ratio due to a change in the protein content. Therefore, it is important to ensure that ratio calculations are made using the appropriate reference recipe. \n",
      "\n",
      "Raw materials\n",
      "\n",
      "All raw materials that are present in the hydrolysate recipe (21XXXX) cannot be changed unless the new raw material is evaluated based on an experimental plan, with the results evaluated by the HEET. Table 1 shows the currently approved raw materials for use in pHP hydrolysate manufacture at factory scale. For hydrolysate recipes, raw materials under the same IS code but with a different TS code are not exchangeable without evaluation. In addition, ratios between raw materials in the recipe (e.g. enzymes vs. protein) cannot be modified without the evaluation of the effect on the engine, since these ratios are directly linked to the hydrolysis process.\n",
      "------------------------------\n"
     ]
    }
   ],
   "source": [
    "for instruction, response in zip(dataset_loaded['instruction'][50:60], dataset_loaded['response'][50:60]):\n",
    "    print(\"### Instruction ###\\n\")\n",
    "    print(instruction)\n",
    "    print(\"\\n### Response ###\\n\")\n",
    "    print(response)\n",
    "\n",
    "    print('-' * 30)"
   ]
  },
  {
   "cell_type": "markdown",
   "id": "51844234-f223-45cd-8654-851af7824655",
   "metadata": {},
   "source": [
    "### Use vicuna"
   ]
  },
  {
   "cell_type": "code",
   "execution_count": 16,
   "id": "5564f819-0f37-4a9c-99ee-dbdf86bb171d",
   "metadata": {},
   "outputs": [
    {
     "data": {
      "application/vnd.jupyter.widget-view+json": {
       "model_id": "70ebc6f3420e49ebbe134cd8fc61e787",
       "version_major": 2,
       "version_minor": 0
      },
      "text/plain": [
       "Loading checkpoint shards:   0%|          | 0/2 [00:00<?, ?it/s]"
      ]
     },
     "metadata": {},
     "output_type": "display_data"
    }
   ],
   "source": [
    "model_dir = \"models/peft-vicuna-int4-instruct-generation-training\"\n",
    "\n",
    "# load base LLM model and tokenizer\n",
    "model = AutoPeftModelForCausalLM.from_pretrained(\n",
    "    model_dir,\n",
    "    low_cpu_mem_usage=True,\n",
    "    torch_dtype=torch.float16,\n",
    "    load_in_4bit=True,\n",
    ")\n",
    "tokenizer = AutoTokenizer.from_pretrained(model_dir)\n"
   ]
  },
  {
   "cell_type": "code",
   "execution_count": null,
   "id": "228f4fb9-9895-47d4-b4b5-c3d8c3bd360d",
   "metadata": {},
   "outputs": [],
   "source": []
  },
  {
   "cell_type": "markdown",
   "id": "54613890-45fd-4f7f-acf3-7d6cffc20798",
   "metadata": {},
   "source": [
    "### Define your data\n",
    "```\n",
    "instruction_set = {\n",
    "    \"instruction\": [\"where do aliens come from\", \"This is a sample sentence.\", \"Another example.\"],\n",
    "    \"response\": [\"Space\", \"This is a sample sentence.\", \"Another example.\"]\n",
    "}\n",
    "```"
   ]
  },
  {
   "cell_type": "code",
   "execution_count": 17,
   "id": "fd3d333c-1480-4035-a50c-e859851a8679",
   "metadata": {},
   "outputs": [],
   "source": [
    "instruction_set = {\n",
    "    \"instruction\": [],\n",
    "    \"response\": []\n",
    "}"
   ]
  },
  {
   "cell_type": "markdown",
   "id": "4f72c209-ba82-44c9-99df-b06073acb9ab",
   "metadata": {},
   "source": [
    "### Might take 1hr"
   ]
  },
  {
   "cell_type": "code",
   "execution_count": 18,
   "id": "49268bba-7f6d-4b5a-b791-e9c38e90790b",
   "metadata": {},
   "outputs": [
    {
     "name": "stdout",
     "output_type": "stream",
     "text": [
      "CPU times: user 16min 49s, sys: 1min 55s, total: 18min 44s\n",
      "Wall time: 18min 44s\n"
     ]
    }
   ],
   "source": [
    "%%time\n",
    "\n",
    "for text in texts:\n",
    "    the_text = text.page_content\n",
    "    prompt = f\"\"\"### Instruction:\n",
    "    Use the Input below to create an instruction, which could have been used to generate the input using an LLM. \n",
    "\n",
    "    {the_text}\n",
    "    \n",
    "    ### Response:\n",
    "    \"\"\"\n",
    "\n",
    "    input_ids = tokenizer(prompt, return_tensors=\"pt\", \n",
    "                                     # max_length=4000,\n",
    "                                     truncation=True\n",
    "                                    ).input_ids.cuda()\n",
    "    # with torch.inference_mode():\n",
    "    outputs = model.generate(input_ids=input_ids, max_new_tokens=100, \n",
    "                            do_sample=True, \n",
    "                             top_p=0.8, \n",
    "                             temperature=0.2\n",
    "                                       )\n",
    "    \n",
    "    outputs = tokenizer.batch_decode(outputs.detach().cpu().numpy(), skip_special_tokens=True)[0][len(prompt):]\n",
    "    \n",
    "    if \"### Instruction:\" in outputs:\n",
    "        outputs = outputs.split(\"### Instruction:\")[1]\n",
    "    elif \"### Note:\" in outputs:\n",
    "        outputs = outputs.split(\"### Note:\")[1]\n",
    "\n",
    "    outputs = outputs.strip('\\n').strip(' ')\n",
    "    outputs = outputs.strip(' ').strip('\\n')\n",
    "    outputs = outputs.split('\\n')[0].strip(' ')\n",
    "\n",
    "    # print(f\"Ground truth:\\n{sample_ds['instruction']}\")\n",
    "    instruction_set[\"instruction\"].append(outputs)\n",
    "    instruction_set[\"response\"].append(text.page_content)"
   ]
  },
  {
   "cell_type": "code",
   "execution_count": 19,
   "id": "4b835fa1-8565-4924-ae7b-e3e5310ce8b9",
   "metadata": {},
   "outputs": [],
   "source": [
    "# instruction_set"
   ]
  },
  {
   "cell_type": "markdown",
   "id": "03a30166-918d-49af-87aa-c1051bea444c",
   "metadata": {},
   "source": [
    "### Save as dataset"
   ]
  },
  {
   "cell_type": "code",
   "execution_count": 20,
   "id": "8c39f190-29fc-4497-b163-183902eb8950",
   "metadata": {},
   "outputs": [
    {
     "data": {
      "application/vnd.jupyter.widget-view+json": {
       "model_id": "",
       "version_major": 2,
       "version_minor": 0
      },
      "text/plain": [
       "Filter:   0%|          | 0/709 [00:00<?, ? examples/s]"
      ]
     },
     "metadata": {},
     "output_type": "display_data"
    },
    {
     "data": {
      "text/plain": [
       "Dataset({\n",
       "    features: ['instruction', 'response'],\n",
       "    num_rows: 709\n",
       "})"
      ]
     },
     "execution_count": 20,
     "metadata": {},
     "output_type": "execute_result"
    }
   ],
   "source": [
    "from datasets import Dataset, load_from_disk\n",
    "\n",
    "dataset = Dataset.from_dict(instruction_set)\n",
    "dataset = dataset.filter(lambda x: x['instruction'] != '')\n",
    "dataset\n",
    "\n",
    "\n"
   ]
  },
  {
   "cell_type": "code",
   "execution_count": 21,
   "id": "408274d4-c4bd-4d3d-9b13-b7b1762571eb",
   "metadata": {},
   "outputs": [
    {
     "data": {
      "application/vnd.jupyter.widget-view+json": {
       "model_id": "",
       "version_major": 2,
       "version_minor": 0
      },
      "text/plain": [
       "Saving the dataset (0/1 shards):   0%|          | 0/709 [00:00<?, ? examples/s]"
      ]
     },
     "metadata": {},
     "output_type": "display_data"
    }
   ],
   "source": [
    "dataset.save_to_disk(\"generated-dataset/peft-vicuna-int4-instruct-generation\")"
   ]
  },
  {
   "cell_type": "code",
   "execution_count": 26,
   "id": "2b9fe38d-373e-458c-bb0e-81a556494b6c",
   "metadata": {},
   "outputs": [],
   "source": [
    "\n",
    "# Load the dataset from disk\n",
    "dataset_loaded = load_from_disk(\"generated-dataset/peft-vicuna-int4-instruct-generation\")"
   ]
  },
  {
   "cell_type": "code",
   "execution_count": 27,
   "id": "a10f2c63-c00a-4c54-8aaa-31a3aafd5558",
   "metadata": {},
   "outputs": [
    {
     "data": {
      "text/plain": [
       "Dataset({\n",
       "    features: ['instruction', 'response'],\n",
       "    num_rows: 709\n",
       "})"
      ]
     },
     "execution_count": 27,
     "metadata": {},
     "output_type": "execute_result"
    }
   ],
   "source": [
    "dataset_loaded"
   ]
  },
  {
   "cell_type": "code",
   "execution_count": 29,
   "id": "b100649b-9105-413d-baac-a1dcc55f049d",
   "metadata": {},
   "outputs": [
    {
     "name": "stdout",
     "output_type": "stream",
     "text": [
      "### Instruction ###\n",
      "\n",
      "What is the eHP engine?\n",
      "\n",
      "### Response ###\n",
      "\n",
      "Clinical studies linked to the eHP engine\n",
      "\n",
      "The eHP engine is linked to the clinical studies described below. This means that the engine that was tested in these clinical studies need to remain unaltered when these studies are used for communication of safety and efficacy of the eHP product.\n",
      "\n",
      "Verwimp 1995: Hydrolysate only\n",
      "\n",
      "Inclusion between 1990-1991. Clinical Study Report unavailable\n",
      "\n",
      "Both Pepti and Pepti Junior resulted in normal growth\n",
      "\n",
      "Both Pepti and Pepti Junior decreased allergic symptoms \n",
      "\n",
      "Giampietro 2001: Hydrolysate only\n",
      "\n",
      "1998-1999. Clinical Study Report unavailable\n",
      "\n",
      "A total of 97% of participating children diagnosed with CMA tolerated Pepti\n",
      "\n",
      "Pepti can be considered safe for its intended use\n",
      "\n",
      "Moro 2006: Hydrolysate + prebiotics\n",
      "\n",
      "Inclusion between 2003-2005. Clinical Study Report unavailable\n",
      "\n",
      "Cumulative incidence of atopic dermatitis in prebiotic group was significantly reduced during first 6 months of life\n",
      "\n",
      "Supplementation with prebiotics resulted in increased numbers of bifidobacteria\n",
      "\n",
      "Pampura 2014: Hydrolysate + prebiotics\n",
      "\n",
      "Unknown. Clinical Study Report unavailable\n",
      "\n",
      "SCORAD score decreased notably (26.66 to 6.63)\n",
      "\n",
      "The need for topical therapy was lowered (glucocorticosteroids (more than 80%), zinc-containing medication (by 92%), systemic antihistamines or steroids (100% reduction))\n",
      "\n",
      "ATOS 2016: Hydrolysate + synbiotics\n",
      "\n",
      "FSI-LSO 2005-2007. Clinical Study Report 15-4-2013\n",
      "\n",
      "No equivalence on growth could be demonstrated. Control group grew faster than synbiotic group. However, synbiotic group does not diverge from WHO growth curve\n",
      "\n",
      "Microbiota composition changed favourably in the synbiotic group compared to the control group\n",
      "\n",
      "Study shows that Pepti Synbiotics is safe and stimulates adequate growth\n",
      "\n",
      "SYNBAD: Hydrolysate + synbiotics\n",
      "\n",
      "FSI-LSO 2005-2007(last FU 2008). Clinical Study Report 22-04-2010\n",
      "------------------------------\n",
      "### Instruction ###\n",
      "\n",
      "Based on the given text, please provide a summary of the results of the clinical study.\n",
      "\n",
      "### Response ###\n",
      "\n",
      "Study shows that Pepti Synbiotics is safe and stimulates adequate growth\n",
      "\n",
      "SYNBAD: Hydrolysate + synbiotics\n",
      "\n",
      "FSI-LSO 2005-2007(last FU 2008). Clinical Study Report 22-04-2010\n",
      "\n",
      "No difference in SCORAD score between groups could be demonstrated. However, in both groups SCORAD score decreased significantly during the intervention period. Therefore, the synbiotic mixture does not have an added beneficial effect in decreasing atopic dermatitis severity\n",
      "\n",
      "In the subgroup of infants with IgE-mediated atopic dermatitis, SCORAD scores improved significantly in the synbiotic group compared to the control group\n",
      "\n",
      "Microbiota composition is successfully modulated in active group\n",
      "\n",
      "For all questions related to clinical studies related to this product you can contact:\n",
      "\n",
      "hydrolysate.engine@danone.com\n",
      "\n",
      "APPENDIX \n",
      "\n",
      "\n",
      "\n",
      "Template Pepti or Pepti Jr engine evaluation by HEET \t\t \n",
      "\n",
      "Project name\t\t\t:\n",
      "\n",
      "Background of the project\t:\n",
      "\n",
      "Name and role of requester\t:\n",
      "\n",
      "Date of request\t\t\t:\n",
      "\n",
      "Aim of the trial\t\t\t:\n",
      "\n",
      "Change compared to reference\t: e.g. recipe, process etc\n",
      "\n",
      "Type of trial (lab/pilot/factory)\t:  \n",
      "\n",
      "Recipe (21XXXX)s:\n",
      "\n",
      "                                 REFERENCE       Test 1          Test 2\n",
      "IS code  raw material  Supplier  Kg /150Kg hydr  Kg /150Kg hydr  Kg /150Kg hydr\n",
      "\n",
      "\n",
      "\n",
      "\n",
      "\n",
      "\n",
      "\n",
      "\n",
      "\n",
      "\n",
      "Criteria to be evaluated\n",
      "\n",
      "Lab trial:\n",
      "\n",
      "Gel permeation chromatography\n",
      "Superdex 30 Increase 10/300 GL (Cytivia)\n",
      "\n",
      "Pilot plant & factory trial:\n",
      "\n",
      "Gel permeation chromatography\t(Superdex 30 Increase 10/300 GL (Cytivia))\n",
      "\n",
      "Beta-Lactoglobulin (BLG) ELISA\t\t: ELISA systems\n",
      "\n",
      "RBL assay\t\t\t\t: request at PolPharma via CoE Immunology\n",
      "\n",
      "Results:\n",
      "------------------------------\n",
      "### Instruction ###\n",
      "\n",
      "What is the engine guidance for the production of BLG?\n",
      "\n",
      "### Response ###\n",
      "\n",
      "Gel permeation chromatography\t(Superdex 30 Increase 10/300 GL (Cytivia))\n",
      "\n",
      "Beta-Lactoglobulin (BLG) ELISA\t\t: ELISA systems\n",
      "\n",
      "RBL assay\t\t\t\t: request at PolPharma via CoE Immunology\n",
      "\n",
      "Results:\n",
      "\n",
      "Engine parameter Pepti / Pepti Jr                SPECIFICATION    SPECIFICATION    Test 1    Test 2\n",
      "BLG (ELISA SYSTEMS                               < 0.2 PPM        < 0.2 PPM\n",
      "RBL                                              Negative         Negative\n",
      "GPC Dalton (Superdex peptide column)             Pepti  (%)       Pepti Jr (%)\n",
      ">10 kDa                                          0 - 0.2          0 – 0.1\n",
      "5 – 10 kDa                                       0 - 0.8          0 – 3.4\n",
      "3 – 5 kDa                                        0.7 – 3.8        1.3 – 12.0\n",
      "1 – 3 kDa                                        15.2 – 26.1      23.9 – 39.0\n",
      "0.5 – 1 kDa                                      22.1 – 27.6      19.0 – 32.8\n",
      "< 0.5 kDa                                        42.0 – 61.9      28.0 – 49.3\n",
      "Scale of trial production (lab, pilot, factory)  -                -\n",
      "\n",
      "Printed: 24 February 2022, 1:08 PM\tEngine Guidance doc eHP_\n",
      "\n",
      "\n",
      "SOP <Title>\t\tPage 1 of 13\n",
      "Version 1 (draft1); 21-06-2005\n",
      "------------------------------\n",
      "### Instruction ###\n",
      "\n",
      "What are the benefits of using partially hydrolyzed protein (pHP) for allergy prevention?\n",
      "\n",
      "### Response ###\n",
      "\n",
      "Engine guidance document for partially hydrolyzed protein (pHP) for allergy prevention\n",
      "\n",
      "Hydrolysate recipes 217070, 217071, 217072, 217075 and 217777\n",
      "\n",
      "Validated by: Anne HOLS, Aveenash BALA, Denis DELAMBRE, Nefeli GEORGAKA, Karen KNIPPING, Katerina JEZKOVA and Xue JIANG\n",
      "\n",
      "Purpose of this document: \n",
      "\n",
      "In the scope of IFFO and YCF, new innovations can be captured as engines. An engine is a specific ingredient or a combination of ingredients specifically processed to obtain a clinically proven health benefit of the product in which it is contained. This document describes the engine of the pHP hydrolysate for allergy prevention (referred to as pHP in the rest of the document) and how changes in the hydrolysate recipe and process should be evaluated to make sure that the engine remains secured. The intended audience for this document is supply points that produce pHP hydrolysates and/or products containing these recipes, and R&I (including local PD teams). The pHP hydrolysate recipe codes are 217070 (non-halal) 217071 (MIDAS), 217072 (Wheytrix), 217075 (MIDAS with powder enzymes) and 217777 (China) and will be referred to as 21XXXX in this document. Recipe 217072 (Wheytrix, master recipe, version 1) has been used in the pHP Regulatory Dossier that was submitted to EFSA in 2020. \n",
      "\n",
      "Introduction to the engine and link to the benefits \n",
      "\n",
      "Target population\n",
      "\n",
      "The target population consists of infants up to twelve months of age that cannot be breastfed or are partially breastfed. Partially hydrolyzed whey protein based infant & follow on formulas are recommended for infants with a family history of allergic disease.\n",
      "\n",
      "Benefits\n",
      "------------------------------\n",
      "### Instruction ###\n",
      "\n",
      "What is the engine of pHP?\n",
      "\n",
      "### Response ###\n",
      "\n",
      "Benefits\n",
      "\n",
      "pHP consists of partially hydrolyzed whey protein. In pHP, the whey protein is hydrolyzed enzymatically (broken down) into peptides with the goal to reduce the molecular weight, peptide size and as such, the sensitizing capacity of the proteins. Since partial hydrolysates may contain some large fragments of protein, they may still induce allergic symptoms in cow’s milk allergic (CMA) children, therefore, they are suitable for infants at risk of developing allergies, but not for those with diagnosed CMA. \n",
      "\n",
      "\n",
      "Safety of the pHP product has been demonstrated by preclinical (in vitro, in vivo) as well as clinical data (growth, tolerance, and formula intake and blood safety parameters). From the in vitro and in vivo studies, it can be concluded that the formula of interest contains <1% of immunoreactive proteins (≈0.1716%) and does not induce sensitization to the intact protein from which the hydrolysate is prepared. \n",
      "\n",
      "Engine\n",
      "\n",
      "The engine of pHP linked to the benefits described above is the partially hydrolyzed whey protein hydrolysate produced inhouse and tested in several in vitro and in vivo studies. The 21XXXX recipes, the raw materials included in these recipes and the processing of these 21XXXX recipes are considered specific for the engine and therefore, need to remain unaltered to secure engine composition and efficacy. The engine is included in the base powder and finally in the end product according to the schema depicted in Figure 1.\n",
      "\n",
      "\n",
      "Figure 1: An illustration of how the pHP engine is incorporated in the base powder and final product\n",
      "------------------------------\n",
      "### Instruction ###\n",
      "\n",
      "What is the difference between HA and hydrolyzed protein in the Bestmix recipes?\n",
      "\n",
      "### Response ###\n",
      "\n",
      "Figure 1: An illustration of how the pHP engine is incorporated in the base powder and final product\n",
      "\n",
      "Key features of the 21XXXX recipe that should remain unaltered are the ratios between: enzyme activity/protein, protein/ OH-, enzyme/enzyme. If changes are required due to e.g. raw material supply / dual sourcing, factory changes, addition of process aids such as emulsifiers etc., the engine needs to be evaluated based on experimental data obtained from a specific experimental plan as described in the following sections. The evaluation is done by the HEET (described below) who can advise on the experimental protocol and assess the compliance of the engine  with respect to the engine specs. The execution of the experiments shall be carried out by any accountable group in R&I (e.g., PD PSQC in case of protein dual sourcing, Factory Tech or PAT team in case of process adjustment etc.).\n",
      "\n",
      "\n",
      "In Bestmix currently the recipes with pHP from 0-6 months are indicated with HA (hypo allergenicity) and the ones from 6-12 months with hydrolyzed protein as ingredient. This is due to the fact that currently the communication on hypo allergenicity is only allowed only for 0-6 months. With the new EFSA legislation (2020) also this communication will not be allowed anymore for 0-6 months unless proven by clinical evidence (ongoing Maestro study).\n",
      "------------------------------\n",
      "### Instruction ###\n",
      "\n",
      "What is the Hydrolysate Engine Expert Team (HEET)?\n",
      "\n",
      "### Response ###\n",
      "\n",
      "Additionally, it needs to be noted that the part of the recipe and process that is not described in this document are not directly linked to securing the engine as long as all raw materials added at this stage are protein free, and cleaning of the line to prevent cross contamination with intact protein is validated and monitored. These requirements are secured by the engine parameters on β-lactoglobulin and casein (method under development) in the product specification powder (PSP) as described below. In addition, also raw materials containing other intact proteins besides cow milk (e.g. sheep, goat, soy etc) should be evaluated by the HEET and QFS before introduction into these products.\n",
      "\n",
      "Hydrolysate engine expert team (HEET)\n",
      "\n",
      "In case changes are needed in the 21XXXX recipe or process, an experimental plan provided in cooperation with the CoE Engine team or CoE Product Development team, (in case of recipe change) or CoE Process team (in case of process change) etc needs to be created and the results of the trials need to be evaluated by the HEET to assess how the engine might be impacted upon that specific change. \n",
      "\n",
      "The HEET is a cross functional R&I team with a background in hydrolysate production and evaluation. Currently the core team consists of five members representing; Immunology, CoE Process, CoE Engines, and COE Product Development (Figure 2). When required, the team is temporarily expanded with experts on a specific fields, to enable delivery of the most appropriate recommendation per request. The team is endorsed by the higher management of each discipline and has a clear RACI to support the workflow.\n",
      "\n",
      "FIGURE 2: The HEET is a cross functional R&I team with a background in hydrolysate production and evaluation. The core team consists of members representing; Immunology, CoE Process, CoE Engines, and COE Product Development.\n",
      "------------------------------\n",
      "### Instruction ###\n",
      "\n",
      "What are the key release parameters for production related to the pHP engine?\n",
      "\n",
      "### Response ###\n",
      "\n",
      "An evaluation from the expert team can be requested at hydrolysate.engine@danone.com or via one of the members. Normally a recommendation is available within one week after the request given that all analytical results are provided in an orderly manner. The typical workflow for an engine related change is shown in Figure 3. HEET recommends that all results from the experimental plan be evaluated by the HEET at every Stage Gate (lab  pilot and / or pilot  factory). \n",
      "\n",
      "FIGURE 3: The typical decision tree that HEET uses for engine evaluation; indicating the specific engine parameters that needs to be analyzed at the lab, pilot or factory trial stage.\n",
      "\n",
      "Engine parameters for product/ process \n",
      "\n",
      "Parameters\n",
      "\n",
      "The key release parameter for production related to the pHP engine is the intact protein content: β-lactoglobulin, which is measured using BLG ELISA and casein, where a ELISA method is in development / validation. In addition, the molecular weight distribution measured using gel permeation chromatography (GPC), is used as monitoring parameter. In general, the experimental approach for engine evaluation will include a combination of trials (lab, pilot, and factory) with specific parameters to evaluate and both the release and monitoring parameters should be within specification for all trials executed. \n",
      "\n",
      "Based on risk assessment, it can be recommended to undertake the RBL assay, mass spectrometry measurements and/or animal studies to evaluate the complete impact of the change, depending on the proposed change. Results of these trials should always be discussed with the HEET, who will provide the final Go / No Go recommendation for implementation of the change.\n",
      "------------------------------\n",
      "### Instruction ###\n",
      "\n",
      "What are the recipes for the pHP engine?\n",
      "\n",
      "### Response ###\n",
      "\n",
      "For all pHP engines, the composition is described in the recipes own by PD, whereas the process steps and the target parameters (heat, time) are captured in the General Technical Specification owned by the COE Process. The main process parameters are described in the process flow chart below. When complied to, these target parameters will ensure that all product engine release and monitoring criteria are within specification. Additionally, the pH curve during hydrolysis is indicative of the quality of the process and therefore should be monitored in the factory.\n",
      "\n",
      "The degree of hydrolysis, which can be measured by the Formol Titration Method, is not assessed on a frequent basis (only upon specific request e.g. change in factory). However, since this parameter is often requested by stakeholders outside R&I, they should be incorporated in the PSP once sufficient data sets have been generated.\n",
      "\n",
      "HEET decision tree\n",
      "\n",
      "Figure 3 illustrates the typical decision tree that HEET uses for engine evaluation; indicating which engine parameters should be analyzed at the lab, pilot or factory trial stage. In case of doubt please contact hydrolysate.engine@danone.com to align on the requirements before executing the trial. \n",
      "\n",
      "The methodology indicated in grey is either under revision (Casein) or under development (mass spec fingerprinting) and therefore is currently out of scope for engine evaluation.\n",
      "\n",
      "Recipes\n",
      "------------------------------\n",
      "### Instruction ###\n",
      "\n",
      "What are the raw materials that can be changed in the 21XXXX recipe?\n",
      "\n",
      "### Response ###\n",
      "\n",
      "The methodology indicated in grey is either under revision (Casein) or under development (mass spec fingerprinting) and therefore is currently out of scope for engine evaluation.\n",
      "\n",
      "Recipes  \n",
      "\n",
      "The key features of the 21XXXX recipe that should remain unaltered are e.g. the ratios between: enzyme activity/ protein, protein/ OH-, enzyme/enzyme and the dry matter. In case one of the hydroxides needs to be replaced, the ratio between OH - and protein should be calculated in moles (not in gram). For more information on hydrolysate recipe development please use instruction IN.06.05 in the PD manual. In addition, calculation examples (e.g. OH-/protein ratio) can be found in working document WD.06.05.01 in the PD manual. Please be aware that master recipes or factory-specific recipes can allow to use alternative raw materials e.g. powder vs. liquid whey sources, which might alter the OH-/protein ratio due to a change in the protein content. Therefore, it is important to ensure that ratio calculations are made using the appropriate reference recipe. \n",
      "\n",
      "Raw materials\n",
      "\n",
      "All raw materials that are present in the hydrolysate recipe (21XXXX) cannot be changed unless the new raw material is evaluated based on an experimental plan, with the results evaluated by the HEET. Table 1 shows the currently approved raw materials for use in pHP hydrolysate manufacture at factory scale. For hydrolysate recipes, raw materials under the same IS code but with a different TS code are not exchangeable without evaluation. In addition, ratios between raw materials in the recipe (e.g. enzymes vs. protein) cannot be modified without the evaluation of the effect on the engine, since these ratios are directly linked to the hydrolysis process.\n",
      "------------------------------\n"
     ]
    }
   ],
   "source": [
    "for instruction, response in zip(dataset_loaded['instruction'][50:60], dataset_loaded['response'][50:60]):\n",
    "    print(\"### Instruction ###\\n\")\n",
    "    print(instruction)\n",
    "    print(\"\\n### Response ###\\n\")\n",
    "    print(response)\n",
    "\n",
    "    print('-' * 30)"
   ]
  },
  {
   "cell_type": "code",
   "execution_count": null,
   "id": "33076af4-ffcb-4279-9535-c8cbeaf5ed48",
   "metadata": {},
   "outputs": [],
   "source": []
  },
  {
   "cell_type": "code",
   "execution_count": null,
   "id": "e515947d-39a0-42ae-ac72-449254113d75",
   "metadata": {},
   "outputs": [],
   "source": []
  },
  {
   "cell_type": "code",
   "execution_count": null,
   "id": "e51bff5c-6ce9-4a3d-a796-adec26c7b1fc",
   "metadata": {},
   "outputs": [],
   "source": []
  },
  {
   "cell_type": "code",
   "execution_count": null,
   "id": "54069a0b-d679-41f8-87c0-515b28386e2e",
   "metadata": {},
   "outputs": [],
   "source": []
  }
 ],
 "metadata": {
  "kernelspec": {
   "display_name": "Python 3 (ipykernel)",
   "language": "python",
   "name": "python3"
  },
  "language_info": {
   "codemirror_mode": {
    "name": "ipython",
    "version": 3
   },
   "file_extension": ".py",
   "mimetype": "text/x-python",
   "name": "python",
   "nbconvert_exporter": "python",
   "pygments_lexer": "ipython3",
   "version": "3.10.12"
  }
 },
 "nbformat": 4,
 "nbformat_minor": 5
}
