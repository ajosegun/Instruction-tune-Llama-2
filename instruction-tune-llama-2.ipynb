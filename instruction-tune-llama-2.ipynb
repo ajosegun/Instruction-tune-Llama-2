{
 "cells": [
  {
   "cell_type": "code",
   "execution_count": 1,
   "id": "053535bf-73df-4b63-9c84-356c701136ca",
   "metadata": {},
   "outputs": [
    {
     "name": "stdout",
     "output_type": "stream",
     "text": [
      "Python 3.10.12\n"
     ]
    }
   ],
   "source": [
    "!python3 --version"
   ]
  },
  {
   "cell_type": "markdown",
   "id": "5d7d5c91-e135-4452-960e-8e37aa4fa54d",
   "metadata": {},
   "source": [
    "#### fix for could not import -lmza\n",
    "https://github.com/lucidrains/imagen-pytorch/issues/92 \n",
    "\n",
    "#### Fix for Can't import datasets AttributeError: partially initialized module 'datasets' has no attribute 'utils' (most likely due to a circular import)\n",
    "\n",
    "Restart juypyter and kernel\r\n"
   ]
  },
  {
   "cell_type": "code",
   "execution_count": 2,
   "id": "3f87d5a5-e6ae-4234-914a-5f294b387b25",
   "metadata": {},
   "outputs": [
    {
     "name": "stdout",
     "output_type": "stream",
     "text": [
      "GPU Information:\n",
      "GPU 0:\n",
      "  Total Memory: 23028 MB\n",
      "  Free Memory: 22511 MB\n",
      "  Used Memory: 4 MB\n"
     ]
    }
   ],
   "source": [
    "import helper\n",
    "import time\n",
    "helper.check_gpu_capacity()"
   ]
  },
  {
   "cell_type": "code",
   "execution_count": 3,
   "id": "b5d9cd78-87e0-4456-81f7-e94932af0a8a",
   "metadata": {},
   "outputs": [
    {
     "name": "stderr",
     "output_type": "stream",
     "text": [
      "/home/ubuntu/ai-project/venv/lib/python3.10/site-packages/tqdm/auto.py:21: TqdmWarning: IProgress not found. Please update jupyter and ipywidgets. See https://ipywidgets.readthedocs.io/en/stable/user_install.html\n",
      "  from .autonotebook import tqdm as notebook_tqdm\n",
      "Downloading readme: 100%|████████████████████████████████████████████████████████████████████████████████████| 8.20k/8.20k [00:00<00:00, 19.3MB/s]\n"
     ]
    },
    {
     "name": "stdout",
     "output_type": "stream",
     "text": [
      "Downloading and preparing dataset json/databricks--databricks-dolly-15k to /home/ubuntu/.cache/huggingface/datasets/databricks___json/databricks--databricks-dolly-15k-7427aa6e57c34282/0.0.0/e347ab1c932092252e717ff3f949105a4dd28b27e842dd53157d2f72e276c2e4...\n"
     ]
    },
    {
     "name": "stderr",
     "output_type": "stream",
     "text": [
      "Downloading data files:   0%|                                                                                               | 0/1 [00:00<?, ?it/s]\n",
      "Downloading data:   0%|                                                                                               | 0.00/13.1M [00:00<?, ?B/s]\u001b[A\n",
      "Downloading data:   0%|▎                                                                                      | 43.0k/13.1M [00:00<00:40, 322kB/s]\u001b[A\n",
      "Downloading data:   2%|█▊                                                                                     | 269k/13.1M [00:00<00:10, 1.26MB/s]\u001b[A\n",
      "Downloading data:   9%|███████▉                                                                              | 1.21M/13.1M [00:00<00:02, 4.00MB/s]\u001b[A\n",
      "Downloading data:  26%|██████████████████████▌                                                               | 3.44M/13.1M [00:00<00:00, 10.2MB/s]\u001b[A\n",
      "Downloading data: 100%|██████████████████████████████████████████████████████████████████████████████████████| 13.1M/13.1M [00:00<00:00, 19.2MB/s]\u001b[A\n",
      "Downloading data files: 100%|███████████████████████████████████████████████████████████████████████████████████████| 1/1 [00:01<00:00,  1.81s/it]\n",
      "Extracting data files: 100%|██████████████████████████████████████████████████████████████████████████████████████| 1/1 [00:00<00:00, 1255.40it/s]\n",
      "                                                        "
     ]
    },
    {
     "name": "stdout",
     "output_type": "stream",
     "text": [
      "Dataset json downloaded and prepared to /home/ubuntu/.cache/huggingface/datasets/databricks___json/databricks--databricks-dolly-15k-7427aa6e57c34282/0.0.0/e347ab1c932092252e717ff3f949105a4dd28b27e842dd53157d2f72e276c2e4. Subsequent calls will reuse this data.\n",
      "dataset size: 15011\n"
     ]
    },
    {
     "name": "stderr",
     "output_type": "stream",
     "text": [
      "\r"
     ]
    }
   ],
   "source": [
    "from datasets import load_dataset\n",
    "from random import randrange\n",
    "\n",
    "# Load dataset from the hub\n",
    "dataset = load_dataset(\"databricks/databricks-dolly-15k\", split=\"train\")\n",
    "\n",
    "print(f\"dataset size: {len(dataset)}\")\n",
    "\n",
    "# dataset size: 15011\n"
   ]
  },
  {
   "cell_type": "code",
   "execution_count": 4,
   "id": "4fb913e1-0e58-4a35-8630-8e87fd15cbc2",
   "metadata": {},
   "outputs": [
    {
     "name": "stdout",
     "output_type": "stream",
     "text": [
      "--> instruction\n",
      "====================\n",
      "where do aliens come from\n",
      "====================\n",
      "--> context\n",
      "====================\n",
      "\n",
      "====================\n",
      "--> response\n",
      "====================\n",
      "space the final frontier or is it?\n",
      "====================\n",
      "--> category\n",
      "====================\n",
      "open_qa\n",
      "====================\n"
     ]
    }
   ],
   "source": [
    "sample_ds = dataset[randrange(len(dataset))]\n",
    "\n",
    "for key, value in sample_ds.items():\n",
    "    print(f\"--> {key}\")\n",
    "    print(\"====================\")\n",
    "    print(value)\n",
    "    print(\"====================\")"
   ]
  },
  {
   "cell_type": "code",
   "execution_count": 5,
   "id": "69fe73ef-bd68-429a-8adb-080314586b85",
   "metadata": {},
   "outputs": [
    {
     "data": {
      "text/plain": [
       "{'brainstorming',\n",
       " 'classification',\n",
       " 'closed_qa',\n",
       " 'creative_writing',\n",
       " 'general_qa',\n",
       " 'information_extraction',\n",
       " 'open_qa',\n",
       " 'summarization'}"
      ]
     },
     "execution_count": 5,
     "metadata": {},
     "output_type": "execute_result"
    }
   ],
   "source": [
    "set(dataset['category'])"
   ]
  },
  {
   "cell_type": "code",
   "execution_count": 6,
   "id": "3529697a-f1d5-410e-a813-23fee88ba9aa",
   "metadata": {},
   "outputs": [],
   "source": [
    "# len(dataset.map( ['context']))"
   ]
  },
  {
   "cell_type": "code",
   "execution_count": 7,
   "id": "48905876-1a02-40cb-b4c6-1e8f09b8130c",
   "metadata": {},
   "outputs": [],
   "source": [
    "# list(filter(lambda x :x != '', list(map(lambda x:((x['category'], len(x['context'])) if len(x['context']) > 5000 else ''), dataset))))"
   ]
  },
  {
   "cell_type": "markdown",
   "id": "fcde2f4f-f086-4e18-90ca-6871834b9a51",
   "metadata": {},
   "source": [
    "Based on our use case, we want to focus on 'general_qa' and  'information_extraction tasks.,"
   ]
  },
  {
   "cell_type": "code",
   "execution_count": 8,
   "id": "09e70e37-693e-4541-9d5c-9c36391d9c30",
   "metadata": {},
   "outputs": [
    {
     "name": "stderr",
     "output_type": "stream",
     "text": [
      "                                                                                                                                                  "
     ]
    },
    {
     "name": "stdout",
     "output_type": "stream",
     "text": [
      "{'summarization', 'information_extraction', 'closed_qa'}\n"
     ]
    },
    {
     "name": "stderr",
     "output_type": "stream",
     "text": [
      "\r"
     ]
    },
    {
     "data": {
      "text/plain": [
       "Dataset({\n",
       "    features: ['instruction', 'context', 'response', 'category'],\n",
       "    num_rows: 4467\n",
       "})"
      ]
     },
     "execution_count": 8,
     "metadata": {},
     "output_type": "execute_result"
    }
   ],
   "source": [
    "target_categories = ['closed_qa', 'summarization', 'information_extraction']\n",
    "filtered_dataset = dataset.filter(lambda x: x['category'] in target_categories)\n",
    "\n",
    "print(set(filtered_dataset['category']))\n",
    "filtered_dataset"
   ]
  },
  {
   "cell_type": "code",
   "execution_count": 9,
   "id": "32d8c2c9-415b-4214-b2fd-81e4f489df25",
   "metadata": {},
   "outputs": [
    {
     "name": "stdout",
     "output_type": "stream",
     "text": [
      "--> instruction\n",
      "====================\n",
      "In the following passage, replace Tallinn with Helsinki and Estonian with Finland.\n",
      "====================\n",
      "--> context\n",
      "====================\n",
      "Urmas was born in Tallinn. He graduated from the University of Tartu in 1996 with a BA in political science and continued his graduate studies there, but without obtaining the degree. He was active in journalism during his studies, first at Estonian Radio and later at Postimees, a mainstream daily and one of Estonia's most popular newspapers.\n",
      "====================\n",
      "--> response\n",
      "====================\n",
      "Urmas was born in Helsinki. He graduated from the University of Tartu in 1996 with a BA in political science and continued his graduate studies there, but without obtaining the degree. He was active in journalism during his studies, first at Finland Radio and later at Postimees, a mainstream daily and one of Finland's most popular newspapers.\n",
      "====================\n",
      "--> category\n",
      "====================\n",
      "information_extraction\n",
      "====================\n"
     ]
    }
   ],
   "source": [
    "sample_ds = filtered_dataset[randrange(len(filtered_dataset))]\n",
    "\n",
    "for key, value in sample_ds.items():\n",
    "    print(f\"--> {key}\")\n",
    "    print(\"====================\")\n",
    "    print(value)\n",
    "    print(\"====================\")"
   ]
  },
  {
   "cell_type": "markdown",
   "id": "b8fbfd21-dd46-4044-95d1-f91d4f3374cb",
   "metadata": {},
   "source": [
    "To instruct tune our model, we need to convert our structured examples into a collection of tasks described via instructions. We define a formatting_function that takes a sample and returns a string with our format instruction."
   ]
  },
  {
   "cell_type": "code",
   "execution_count": 10,
   "id": "3b8ff2b8-d4e0-40af-ad22-06442d57a4fd",
   "metadata": {},
   "outputs": [],
   "source": [
    "def format_instruction(sample):\n",
    "\treturn f\"\"\"### Instruction:\n",
    "            Use the Input below to create an instruction, which could have been used to generate the input using an LLM.\n",
    "            \n",
    "            ### Input:\n",
    "            {sample['response']}\n",
    "            \n",
    "            ### Response:\n",
    "            {sample['instruction']}\n",
    "        \"\"\"\n"
   ]
  },
  {
   "cell_type": "markdown",
   "id": "8d25d8e6-e589-48a3-9aee-6b03d66389c4",
   "metadata": {},
   "source": [
    "Let's test our formatting function on a random example."
   ]
  },
  {
   "cell_type": "code",
   "execution_count": 11,
   "id": "22e89814-1a71-474c-babc-9c398972125c",
   "metadata": {},
   "outputs": [
    {
     "name": "stdout",
     "output_type": "stream",
     "text": [
      "### Instruction:\n",
      "            Use the Input below to create an instruction, which could have been used to generate the input using an LLM.\n",
      "            \n",
      "            ### Input:\n",
      "            Hard magic is always strictly constrained by a set of rules which can simulate a more ordered world to the reader, while soft magic if more flexible, has no clearly defined limitations and can be used to imbue a sense of wonder to the reader.\n",
      "            \n",
      "            ### Response:\n",
      "            According to Sanderson's Law of Magic, what is the difference between hard and soft magic?\n",
      "        \n"
     ]
    }
   ],
   "source": [
    "from random import randrange\n",
    "\n",
    "print(format_instruction(filtered_dataset[randrange(len(filtered_dataset))]))\n",
    "\n",
    "## Do I need to add the context in the format_instruction?????"
   ]
  },
  {
   "cell_type": "code",
   "execution_count": 12,
   "id": "3c9519a9-759d-4a77-92f7-c7f4b8534bf1",
   "metadata": {},
   "outputs": [
    {
     "name": "stdout",
     "output_type": "stream",
     "text": [
      "### Instruction:\n",
      "            Use the Input below to create an instruction, which could have been used to generate the input using an LLM.\n",
      "            \n",
      "            ### Input:\n",
      "            Urmas was born in Helsinki. He graduated from the University of Tartu in 1996 with a BA in political science and continued his graduate studies there, but without obtaining the degree. He was active in journalism during his studies, first at Finland Radio and later at Postimees, a mainstream daily and one of Finland's most popular newspapers.\n",
      "            \n",
      "            ### Response:\n",
      "            In the following passage, replace Tallinn with Helsinki and Estonian with Finland.\n",
      "        \n"
     ]
    }
   ],
   "source": [
    "print(format_instruction(sample_ds))"
   ]
  },
  {
   "cell_type": "markdown",
   "id": "c2d0156c-85de-4e8a-aeb0-8f7f8d785212",
   "metadata": {},
   "source": [
    "### Instruction-tune Llama 2 using trl and the SFTTrainer"
   ]
  },
  {
   "cell_type": "code",
   "execution_count": 13,
   "id": "1ec40fdb-1621-42a2-901c-71b8a287d308",
   "metadata": {},
   "outputs": [
    {
     "name": "stdout",
     "output_type": "stream",
     "text": [
      "GPU Information:\n",
      "GPU 0:\n",
      "  Total Memory: 23028 MB\n",
      "  Free Memory: 22511 MB\n",
      "  Used Memory: 4 MB\n"
     ]
    }
   ],
   "source": [
    "import torch\n",
    "from transformers import AutoTokenizer, AutoModelForCausalLM, BitsAndBytesConfig\n",
    "\n",
    "use_flash_attention = False\n",
    "# COMMENT IN TO USE FLASH ATTENTION\n",
    "# replace attention with flash attention\n",
    "# if torch.cuda.get_device_capability()[0] >= 8:\n",
    "#     from utils.llama_patch import replace_attn_with_flash_attn\n",
    "#     print(\"Using flash attention\")\n",
    "#     replace_attn_with_flash_attn()\n",
    "#     use_flash_attention = True\n",
    "\n",
    "helper.check_gpu_capacity()\n"
   ]
  },
  {
   "cell_type": "code",
   "execution_count": null,
   "id": "aaf02c98-762b-4fc6-89ec-0fd1c7741cd4",
   "metadata": {},
   "outputs": [],
   "source": []
  },
  {
   "cell_type": "code",
   "execution_count": 15,
   "id": "53d29288-3392-4e22-952b-d39d271af9f9",
   "metadata": {
    "scrolled": true
   },
   "outputs": [
    {
     "name": "stderr",
     "output_type": "stream",
     "text": [
      "Downloading (…)fetensors.index.json: 100%|███████████████████████████████████████████████████████████████████| 26.8k/26.8k [00:00<00:00, 70.0MB/s]\n",
      "Downloading shards:   0%|                                                                                                   | 0/2 [00:00<?, ?it/s]\n",
      "Downloading (…)of-00002.safetensors:   0%|                                                                            | 0.00/9.98G [00:00<?, ?B/s]\u001b[A\n",
      "Downloading (…)of-00002.safetensors:   0%|▎                                                                   | 41.9M/9.98G [00:00<00:30, 324MB/s]\u001b[A\n",
      "Downloading (…)of-00002.safetensors:   1%|▌                                                                   | 83.9M/9.98G [00:00<01:22, 120MB/s]\u001b[A\n",
      "Downloading (…)of-00002.safetensors:   1%|▊                                                                    | 115M/9.98G [00:00<01:05, 150MB/s]\u001b[A\n",
      "Downloading (…)of-00002.safetensors:   2%|█                                                                    | 157M/9.98G [00:00<00:48, 201MB/s]\u001b[A\n",
      "Downloading (…)of-00002.safetensors:   2%|█▎                                                                   | 189M/9.98G [00:01<00:48, 201MB/s]\u001b[A\n",
      "Downloading (…)of-00002.safetensors:   2%|█▌                                                                   | 231M/9.98G [00:01<00:41, 237MB/s]\u001b[A\n",
      "Downloading (…)of-00002.safetensors:   3%|█▉                                                                   | 273M/9.98G [00:01<00:36, 269MB/s]\u001b[A\n",
      "Downloading (…)of-00002.safetensors:   3%|██▏                                                                  | 315M/9.98G [00:01<00:32, 297MB/s]\u001b[A\n",
      "Downloading (…)of-00002.safetensors:   4%|██▍                                                                  | 357M/9.98G [00:01<00:30, 316MB/s]\u001b[A\n",
      "Downloading (…)of-00002.safetensors:   4%|██▊                                                                  | 409M/9.98G [00:01<00:27, 351MB/s]\u001b[A\n",
      "Downloading (…)of-00002.safetensors:   5%|███                                                                  | 451M/9.98G [00:01<00:27, 349MB/s]\u001b[A\n",
      "Downloading (…)of-00002.safetensors:   5%|███▍                                                                 | 493M/9.98G [00:01<00:26, 365MB/s]\u001b[A\n",
      "Downloading (…)of-00002.safetensors:   5%|███▋                                                                 | 535M/9.98G [00:01<00:26, 361MB/s]\u001b[A\n",
      "Downloading (…)of-00002.safetensors:   6%|███▉                                                                 | 577M/9.98G [00:02<00:26, 350MB/s]\u001b[A\n",
      "Downloading (…)of-00002.safetensors:   6%|████▎                                                                | 629M/9.98G [00:02<00:23, 390MB/s]\u001b[A\n",
      "Downloading (…)of-00002.safetensors:   7%|████▋                                                                | 671M/9.98G [00:02<00:24, 387MB/s]\u001b[A\n",
      "Downloading (…)of-00002.safetensors:   7%|█████                                                                | 724M/9.98G [00:02<00:23, 390MB/s]\u001b[A\n",
      "Downloading (…)of-00002.safetensors:   8%|█████▎                                                               | 765M/9.98G [00:02<00:24, 383MB/s]\u001b[A\n",
      "Downloading (…)of-00002.safetensors:   8%|█████▌                                                               | 807M/9.98G [00:02<00:25, 362MB/s]\u001b[A\n",
      "Downloading (…)of-00002.safetensors:   9%|█████▊                                                               | 849M/9.98G [00:02<00:25, 353MB/s]\u001b[A\n",
      "Downloading (…)of-00002.safetensors:   9%|██████▏                                                              | 891M/9.98G [00:02<00:24, 365MB/s]\u001b[A\n",
      "Downloading (…)of-00002.safetensors:   9%|██████▍                                                              | 933M/9.98G [00:03<00:31, 283MB/s]\u001b[A\n",
      "Downloading (…)of-00002.safetensors:  10%|██████▋                                                              | 975M/9.98G [00:03<00:29, 300MB/s]\u001b[A\n",
      "Downloading (…)of-00002.safetensors:  10%|██████▉                                                             | 1.02G/9.98G [00:03<00:29, 309MB/s]\u001b[A\n",
      "Downloading (…)of-00002.safetensors:  11%|███████▏                                                            | 1.06G/9.98G [00:03<00:26, 333MB/s]\u001b[A\n",
      "Downloading (…)of-00002.safetensors:  11%|███████▌                                                            | 1.10G/9.98G [00:03<00:25, 343MB/s]\u001b[A\n",
      "Downloading (…)of-00002.safetensors:  11%|███████▊                                                            | 1.14G/9.98G [00:03<00:25, 349MB/s]\u001b[A\n",
      "Downloading (…)of-00002.safetensors:  12%|████████                                                            | 1.18G/9.98G [00:03<00:24, 357MB/s]\u001b[A\n",
      "Downloading (…)of-00002.safetensors:  12%|████████▎                                                           | 1.23G/9.98G [00:03<00:24, 353MB/s]\u001b[A\n",
      "Downloading (…)of-00002.safetensors:  13%|████████▋                                                           | 1.27G/9.98G [00:04<00:23, 365MB/s]\u001b[A\n",
      "Downloading (…)of-00002.safetensors:  13%|████████▉                                                           | 1.31G/9.98G [00:04<00:23, 374MB/s]\u001b[A\n",
      "Downloading (…)of-00002.safetensors:  14%|█████████▏                                                          | 1.35G/9.98G [00:04<00:24, 357MB/s]\u001b[A\n",
      "Downloading (…)of-00002.safetensors:  14%|█████████▌                                                          | 1.39G/9.98G [00:04<00:23, 361MB/s]\u001b[A\n",
      "Downloading (…)of-00002.safetensors:  14%|█████████▊                                                          | 1.44G/9.98G [00:04<00:28, 296MB/s]\u001b[A\n",
      "Downloading (…)of-00002.safetensors:  15%|██████████                                                          | 1.48G/9.98G [00:04<00:28, 301MB/s]\u001b[A\n",
      "Downloading (…)of-00002.safetensors:  15%|██████████▎                                                         | 1.52G/9.98G [00:04<00:27, 309MB/s]\u001b[A\n",
      "Downloading (…)of-00002.safetensors:  16%|██████████▋                                                         | 1.56G/9.98G [00:05<00:36, 232MB/s]\u001b[A\n",
      "Downloading (…)of-00002.safetensors:  16%|██████████▊                                                         | 1.59G/9.98G [00:05<00:34, 240MB/s]\u001b[A\n",
      "Downloading (…)of-00002.safetensors:  16%|███████████▏                                                        | 1.64G/9.98G [00:05<00:31, 268MB/s]\u001b[A\n",
      "Downloading (…)of-00002.safetensors:  17%|███████████▍                                                        | 1.68G/9.98G [00:05<00:28, 293MB/s]\u001b[A\n",
      "Downloading (…)of-00002.safetensors:  17%|███████████▋                                                        | 1.72G/9.98G [00:05<00:27, 305MB/s]\u001b[A\n",
      "Downloading (…)of-00002.safetensors:  18%|████████████                                                        | 1.76G/9.98G [00:05<00:25, 326MB/s]\u001b[A\n",
      "Downloading (…)of-00002.safetensors:  18%|████████████▎                                                       | 1.80G/9.98G [00:05<00:24, 335MB/s]\u001b[A\n",
      "Downloading (…)of-00002.safetensors:  18%|████████████▌                                                       | 1.85G/9.98G [00:05<00:23, 346MB/s]\u001b[A\n",
      "Downloading (…)of-00002.safetensors:  19%|████████████▊                                                       | 1.89G/9.98G [00:06<00:22, 361MB/s]\u001b[A\n",
      "Downloading (…)of-00002.safetensors:  19%|█████████████▏                                                      | 1.93G/9.98G [00:06<00:21, 368MB/s]\u001b[A\n",
      "Downloading (…)of-00002.safetensors:  20%|█████████████▍                                                      | 1.97G/9.98G [00:06<00:21, 379MB/s]\u001b[A\n",
      "Downloading (…)of-00002.safetensors:  20%|█████████████▋                                                      | 2.01G/9.98G [00:06<00:21, 369MB/s]\u001b[A\n",
      "Downloading (…)of-00002.safetensors:  21%|██████████████                                                      | 2.06G/9.98G [00:06<00:21, 372MB/s]\u001b[A\n",
      "Downloading (…)of-00002.safetensors:  21%|██████████████▎                                                     | 2.10G/9.98G [00:06<00:21, 366MB/s]\u001b[A\n",
      "Downloading (…)of-00002.safetensors:  21%|██████████████▌                                                     | 2.14G/9.98G [00:06<00:22, 341MB/s]\u001b[A\n",
      "Downloading (…)of-00002.safetensors:  22%|██████████████▊                                                     | 2.18G/9.98G [00:06<00:22, 354MB/s]\u001b[A\n",
      "Downloading (…)of-00002.safetensors:  22%|███████████████▏                                                    | 2.22G/9.98G [00:07<00:22, 343MB/s]\u001b[A\n",
      "Downloading (…)of-00002.safetensors:  23%|███████████████▍                                                    | 2.26G/9.98G [00:07<00:22, 342MB/s]\u001b[A\n",
      "Downloading (…)of-00002.safetensors:  23%|███████████████▋                                                    | 2.31G/9.98G [00:07<00:22, 339MB/s]\u001b[A\n",
      "Downloading (…)of-00002.safetensors:  24%|████████████████                                                    | 2.35G/9.98G [00:07<00:22, 344MB/s]\u001b[A\n",
      "Downloading (…)of-00002.safetensors:  24%|████████████████▎                                                   | 2.39G/9.98G [00:07<00:22, 331MB/s]\u001b[A\n",
      "Downloading (…)of-00002.safetensors:  24%|████████████████▌                                                   | 2.43G/9.98G [00:07<00:23, 323MB/s]\u001b[A\n",
      "Downloading (…)of-00002.safetensors:  25%|████████████████▊                                                   | 2.47G/9.98G [00:07<00:22, 328MB/s]\u001b[A\n",
      "Downloading (…)of-00002.safetensors:  25%|█████████████████▏                                                  | 2.52G/9.98G [00:07<00:22, 333MB/s]\u001b[A\n",
      "Downloading (…)of-00002.safetensors:  26%|█████████████████▍                                                  | 2.56G/9.98G [00:08<00:22, 323MB/s]\u001b[A\n",
      "Downloading (…)of-00002.safetensors:  26%|█████████████████▋                                                  | 2.60G/9.98G [00:08<00:22, 331MB/s]\u001b[A\n",
      "Downloading (…)of-00002.safetensors:  27%|██████████████████                                                  | 2.65G/9.98G [00:08<00:20, 354MB/s]\u001b[A\n",
      "Downloading (…)of-00002.safetensors:  27%|██████████████████▎                                                 | 2.69G/9.98G [00:08<00:20, 354MB/s]\u001b[A\n",
      "Downloading (…)of-00002.safetensors:  27%|██████████████████▋                                                 | 2.74G/9.98G [00:08<00:19, 367MB/s]\u001b[A\n",
      "Downloading (…)of-00002.safetensors:  28%|██████████████████▉                                                 | 2.78G/9.98G [00:08<00:35, 203MB/s]\u001b[A\n",
      "Downloading (…)of-00002.safetensors:  28%|███████████████████▏                                                | 2.81G/9.98G [00:09<00:32, 222MB/s]\u001b[A\n",
      "Downloading (…)of-00002.safetensors:  28%|███████████████████▎                                                | 2.84G/9.98G [00:09<00:30, 236MB/s]\u001b[A\n",
      "Downloading (…)of-00002.safetensors:  29%|███████████████████▌                                                | 2.87G/9.98G [00:09<00:28, 252MB/s]\u001b[A\n",
      "Downloading (…)of-00002.safetensors:  29%|███████████████████▊                                                | 2.92G/9.98G [00:09<00:25, 272MB/s]\u001b[A\n",
      "Downloading (…)of-00002.safetensors:  30%|████████████████████▏                                               | 2.97G/9.98G [00:09<00:22, 315MB/s]\u001b[A\n",
      "Downloading (…)of-00002.safetensors:  30%|████████████████████▌                                               | 3.01G/9.98G [00:09<00:24, 287MB/s]\u001b[A\n",
      "Downloading (…)of-00002.safetensors:  30%|████████████████████▋                                               | 3.04G/9.98G [00:09<00:26, 264MB/s]\u001b[A\n",
      "Downloading (…)of-00002.safetensors:  31%|████████████████████▉                                               | 3.07G/9.98G [00:09<00:26, 266MB/s]\u001b[A\n",
      "Downloading (…)of-00002.safetensors:  31%|█████████████████████▏                                              | 3.11G/9.98G [00:10<00:23, 296MB/s]\u001b[A\n",
      "Downloading (…)of-00002.safetensors:  32%|█████████████████████▌                                              | 3.17G/9.98G [00:10<00:20, 327MB/s]\u001b[A\n",
      "Downloading (…)of-00002.safetensors:  32%|█████████████████████▉                                              | 3.22G/9.98G [00:10<00:19, 345MB/s]\u001b[A\n",
      "Downloading (…)of-00002.safetensors:  33%|██████████████████████▎                                             | 3.27G/9.98G [00:10<00:17, 376MB/s]\u001b[A\n",
      "Downloading (…)of-00002.safetensors:  33%|██████████████████████▌                                             | 3.31G/9.98G [00:10<00:18, 356MB/s]\u001b[A\n",
      "Downloading (…)of-00002.safetensors:  34%|██████████████████████▊                                             | 3.36G/9.98G [00:10<00:18, 362MB/s]\u001b[A\n",
      "Downloading (…)of-00002.safetensors:  34%|███████████████████████▏                                            | 3.40G/9.98G [00:10<00:19, 330MB/s]\u001b[A\n",
      "Downloading (…)of-00002.safetensors:  34%|███████████████████████▍                                            | 3.44G/9.98G [00:10<00:18, 350MB/s]\u001b[A\n",
      "Downloading (…)of-00002.safetensors:  35%|███████████████████████▊                                            | 3.49G/9.98G [00:11<00:17, 374MB/s]\u001b[A\n",
      "Downloading (…)of-00002.safetensors:  35%|████████████████████████                                            | 3.53G/9.98G [00:11<00:17, 360MB/s]\u001b[A\n",
      "Downloading (…)of-00002.safetensors:  36%|████████████████████████▎                                           | 3.58G/9.98G [00:11<00:17, 364MB/s]\u001b[A\n",
      "Downloading (…)of-00002.safetensors:  36%|████████████████████████▋                                           | 3.62G/9.98G [00:11<00:16, 377MB/s]\u001b[A\n",
      "Downloading (…)of-00002.safetensors:  37%|████████████████████████▉                                           | 3.66G/9.98G [00:11<00:18, 335MB/s]\u001b[A\n",
      "Downloading (…)of-00002.safetensors:  37%|█████████████████████████▏                                          | 3.70G/9.98G [00:11<00:18, 343MB/s]\u001b[A\n",
      "Downloading (…)of-00002.safetensors:  38%|█████████████████████████▌                                          | 3.74G/9.98G [00:11<00:17, 353MB/s]\u001b[A\n",
      "Downloading (…)of-00002.safetensors:  38%|█████████████████████████▊                                          | 3.79G/9.98G [00:11<00:17, 355MB/s]\u001b[A\n",
      "Downloading (…)of-00002.safetensors:  38%|██████████████████████████                                          | 3.83G/9.98G [00:12<00:24, 251MB/s]\u001b[A\n",
      "Downloading (…)of-00002.safetensors:  39%|██████████████████████████▎                                         | 3.87G/9.98G [00:12<00:22, 266MB/s]\u001b[A\n",
      "Downloading (…)of-00002.safetensors:  39%|██████████████████████████▋                                         | 3.91G/9.98G [00:12<00:21, 283MB/s]\u001b[A\n",
      "Downloading (…)of-00002.safetensors:  40%|██████████████████████████▉                                         | 3.95G/9.98G [00:12<00:20, 293MB/s]\u001b[A\n",
      "Downloading (…)of-00002.safetensors:  40%|███████████████████████████▎                                        | 4.01G/9.98G [00:12<00:17, 333MB/s]\u001b[A\n",
      "Downloading (…)of-00002.safetensors:  41%|███████████████████████████▌                                        | 4.05G/9.98G [00:12<00:17, 345MB/s]\u001b[A\n",
      "Downloading (…)of-00002.safetensors:  41%|███████████████████████████▊                                        | 4.09G/9.98G [00:12<00:17, 344MB/s]\u001b[A\n",
      "Downloading (…)of-00002.safetensors:  41%|████████████████████████████▏                                       | 4.13G/9.98G [00:13<00:16, 363MB/s]\u001b[A\n",
      "Downloading (…)of-00002.safetensors:  42%|████████████████████████████▌                                       | 4.18G/9.98G [00:13<00:14, 386MB/s]\u001b[A\n",
      "Downloading (…)of-00002.safetensors:  42%|████████████████████████████▊                                       | 4.23G/9.98G [00:13<00:15, 374MB/s]\u001b[A\n",
      "Downloading (…)of-00002.safetensors:  43%|█████████████████████████████                                       | 4.27G/9.98G [00:13<00:16, 357MB/s]\u001b[A\n",
      "Downloading (…)of-00002.safetensors:  43%|█████████████████████████████▎                                      | 4.31G/9.98G [00:13<00:15, 367MB/s]\u001b[A\n",
      "Downloading (…)of-00002.safetensors:  44%|█████████████████████████████▋                                      | 4.35G/9.98G [00:13<00:15, 374MB/s]\u001b[A\n",
      "Downloading (…)of-00002.safetensors:  44%|██████████████████████████████                                      | 4.40G/9.98G [00:13<00:14, 388MB/s]\u001b[A\n",
      "Downloading (…)of-00002.safetensors:  45%|██████████████████████████████▎                                     | 4.46G/9.98G [00:13<00:13, 412MB/s]\u001b[A\n",
      "Downloading (…)of-00002.safetensors:  45%|██████████████████████████████▋                                     | 4.50G/9.98G [00:13<00:13, 392MB/s]\u001b[A\n",
      "Downloading (…)of-00002.safetensors:  46%|██████████████████████████████▉                                     | 4.54G/9.98G [00:14<00:15, 358MB/s]\u001b[A\n",
      "Downloading (…)of-00002.safetensors:  46%|███████████████████████████████▏                                    | 4.58G/9.98G [00:14<00:15, 355MB/s]\u001b[A\n",
      "Downloading (…)of-00002.safetensors:  46%|███████████████████████████████▌                                    | 4.63G/9.98G [00:14<00:13, 387MB/s]\u001b[A\n",
      "Downloading (…)of-00002.safetensors:  47%|███████████████████████████████▉                                    | 4.69G/9.98G [00:14<00:13, 382MB/s]\u001b[A\n",
      "Downloading (…)of-00002.safetensors:  47%|████████████████████████████████▏                                   | 4.73G/9.98G [00:14<00:16, 328MB/s]\u001b[A\n",
      "Downloading (…)of-00002.safetensors:  48%|████████████████████████████████▌                                   | 4.77G/9.98G [00:14<00:15, 332MB/s]\u001b[A\n",
      "Downloading (…)of-00002.safetensors:  48%|████████████████████████████████▊                                   | 4.81G/9.98G [00:14<00:15, 337MB/s]\u001b[A\n",
      "Downloading (…)of-00002.safetensors:  49%|█████████████████████████████████                                   | 4.85G/9.98G [00:15<00:16, 313MB/s]\u001b[A\n",
      "Downloading (…)of-00002.safetensors:  49%|█████████████████████████████████▍                                  | 4.90G/9.98G [00:15<00:15, 322MB/s]\u001b[A\n",
      "Downloading (…)of-00002.safetensors:  50%|█████████████████████████████████▋                                  | 4.94G/9.98G [00:15<00:15, 321MB/s]\u001b[A\n",
      "Downloading (…)of-00002.safetensors:  50%|█████████████████████████████████▉                                  | 4.98G/9.98G [00:15<00:19, 262MB/s]\u001b[A\n",
      "Downloading (…)of-00002.safetensors:  50%|██████████████████████████████████▏                                 | 5.01G/9.98G [00:15<00:20, 243MB/s]\u001b[A\n",
      "Downloading (…)of-00002.safetensors:  51%|██████████████████████████████████▍                                 | 5.05G/9.98G [00:15<00:18, 270MB/s]\u001b[A\n",
      "Downloading (…)of-00002.safetensors:  51%|██████████████████████████████████▋                                 | 5.10G/9.98G [00:15<00:17, 287MB/s]\u001b[A\n",
      "Downloading (…)of-00002.safetensors:  52%|███████████████████████████████████                                 | 5.14G/9.98G [00:16<00:16, 302MB/s]\u001b[A\n",
      "Downloading (…)of-00002.safetensors:  52%|███████████████████████████████████▎                                | 5.18G/9.98G [00:16<00:14, 328MB/s]\u001b[A\n",
      "Downloading (…)of-00002.safetensors:  52%|███████████████████████████████████▌                                | 5.22G/9.98G [00:16<00:14, 331MB/s]\u001b[A\n",
      "Downloading (…)of-00002.safetensors:  53%|███████████████████████████████████▉                                | 5.26G/9.98G [00:16<00:13, 350MB/s]\u001b[A\n",
      "Downloading (…)of-00002.safetensors:  53%|████████████████████████████████████▏                               | 5.31G/9.98G [00:16<00:12, 364MB/s]\u001b[A\n",
      "Downloading (…)of-00002.safetensors:  54%|████████████████████████████████████▍                               | 5.35G/9.98G [00:16<00:12, 365MB/s]\u001b[A\n",
      "Downloading (…)of-00002.safetensors:  54%|████████████████████████████████████▋                               | 5.39G/9.98G [00:16<00:14, 324MB/s]\u001b[A\n",
      "Downloading (…)of-00002.safetensors:  54%|█████████████████████████████████████                               | 5.43G/9.98G [00:16<00:16, 275MB/s]\u001b[A\n",
      "Downloading (…)of-00002.safetensors:  55%|█████████████████████████████████████▎                              | 5.47G/9.98G [00:17<00:15, 299MB/s]\u001b[A\n",
      "Downloading (…)of-00002.safetensors:  55%|█████████████████████████████████████▌                              | 5.52G/9.98G [00:17<00:15, 296MB/s]\u001b[A\n",
      "Downloading (…)of-00002.safetensors:  56%|█████████████████████████████████████▉                              | 5.56G/9.98G [00:17<00:14, 308MB/s]\u001b[A\n",
      "Downloading (…)of-00002.safetensors:  56%|██████████████████████████████████████▏                             | 5.60G/9.98G [00:17<00:15, 287MB/s]\u001b[A\n",
      "Downloading (…)of-00002.safetensors:  57%|██████████████████████████████████████▍                             | 5.64G/9.98G [00:17<00:14, 308MB/s]\u001b[A\n",
      "Downloading (…)of-00002.safetensors:  57%|██████████████████████████████████████▋                             | 5.68G/9.98G [00:17<00:20, 210MB/s]\u001b[A\n",
      "Downloading (…)of-00002.safetensors:  57%|███████████████████████████████████████                             | 5.73G/9.98G [00:18<00:17, 244MB/s]\u001b[A\n",
      "Downloading (…)of-00002.safetensors:  58%|███████████████████████████████████████▎                            | 5.77G/9.98G [00:18<00:15, 276MB/s]\u001b[A\n",
      "Downloading (…)of-00002.safetensors:  58%|███████████████████████████████████████▌                            | 5.81G/9.98G [00:18<00:13, 305MB/s]\u001b[A\n",
      "Downloading (…)of-00002.safetensors:  59%|███████████████████████████████████████▉                            | 5.85G/9.98G [00:18<00:13, 313MB/s]\u001b[A\n",
      "Downloading (…)of-00002.safetensors:  59%|████████████████████████████████████████▏                           | 5.89G/9.98G [00:18<00:13, 311MB/s]\u001b[A\n",
      "Downloading (…)of-00002.safetensors:  59%|████████████████████████████████████████▍                           | 5.93G/9.98G [00:18<00:12, 329MB/s]\u001b[A\n",
      "Downloading (…)of-00002.safetensors:  60%|████████████████████████████████████████▋                           | 5.98G/9.98G [00:18<00:11, 345MB/s]\u001b[A\n",
      "Downloading (…)of-00002.safetensors:  60%|█████████████████████████████████████████                           | 6.02G/9.98G [00:18<00:11, 353MB/s]\u001b[A\n",
      "Downloading (…)of-00002.safetensors:  61%|█████████████████████████████████████████▎                          | 6.06G/9.98G [00:19<00:11, 348MB/s]\u001b[A\n",
      "Downloading (…)of-00002.safetensors:  61%|█████████████████████████████████████████▌                          | 6.10G/9.98G [00:19<00:10, 361MB/s]\u001b[A\n",
      "Downloading (…)of-00002.safetensors:  62%|█████████████████████████████████████████▉                          | 6.14G/9.98G [00:19<00:11, 346MB/s]\u001b[A\n",
      "Downloading (…)of-00002.safetensors:  62%|██████████████████████████████████████████▏                         | 6.19G/9.98G [00:19<00:10, 350MB/s]\u001b[A\n",
      "Downloading (…)of-00002.safetensors:  62%|██████████████████████████████████████████▍                         | 6.23G/9.98G [00:19<00:10, 362MB/s]\u001b[A\n",
      "Downloading (…)of-00002.safetensors:  63%|██████████████████████████████████████████▊                         | 6.28G/9.98G [00:19<00:09, 381MB/s]\u001b[A\n",
      "Downloading (…)of-00002.safetensors:  63%|███████████████████████████████████████████                         | 6.32G/9.98G [00:19<00:09, 376MB/s]\u001b[A\n",
      "Downloading (…)of-00002.safetensors:  64%|███████████████████████████████████████████▍                        | 6.36G/9.98G [00:19<00:09, 377MB/s]\u001b[A\n",
      "Downloading (…)of-00002.safetensors:  64%|███████████████████████████████████████████▋                        | 6.41G/9.98G [00:20<00:10, 334MB/s]\u001b[A\n",
      "Downloading (…)of-00002.safetensors:  65%|███████████████████████████████████████████▉                        | 6.45G/9.98G [00:20<00:10, 337MB/s]\u001b[A\n",
      "Downloading (…)of-00002.safetensors:  65%|████████████████████████████████████████████▏                       | 6.49G/9.98G [00:20<00:10, 348MB/s]\u001b[A\n",
      "Downloading (…)of-00002.safetensors:  65%|████████████████████████████████████████████▌                       | 6.53G/9.98G [00:20<00:09, 350MB/s]\u001b[A\n",
      "Downloading (…)of-00002.safetensors:  66%|████████████████████████████████████████████▊                       | 6.57G/9.98G [00:20<00:10, 332MB/s]\u001b[A\n",
      "Downloading (…)of-00002.safetensors:  66%|█████████████████████████████████████████████                       | 6.62G/9.98G [00:20<00:09, 347MB/s]\u001b[A\n",
      "Downloading (…)of-00002.safetensors:  67%|█████████████████████████████████████████████▍                      | 6.66G/9.98G [00:20<00:09, 355MB/s]\u001b[A\n",
      "Downloading (…)of-00002.safetensors:  67%|█████████████████████████████████████████████▋                      | 6.70G/9.98G [00:20<00:09, 345MB/s]\u001b[A\n",
      "Downloading (…)of-00002.safetensors:  68%|█████████████████████████████████████████████▉                      | 6.74G/9.98G [00:20<00:09, 336MB/s]\u001b[A\n",
      "Downloading (…)of-00002.safetensors:  68%|██████████████████████████████████████████████▏                     | 6.78G/9.98G [00:21<00:09, 323MB/s]\u001b[A\n",
      "Downloading (…)of-00002.safetensors:  68%|██████████████████████████████████████████████▌                     | 6.83G/9.98G [00:21<00:09, 324MB/s]\u001b[A\n",
      "Downloading (…)of-00002.safetensors:  69%|██████████████████████████████████████████████▊                     | 6.87G/9.98G [00:21<00:09, 326MB/s]\u001b[A\n",
      "Downloading (…)of-00002.safetensors:  69%|███████████████████████████████████████████████                     | 6.91G/9.98G [00:21<00:09, 336MB/s]\u001b[A\n",
      "Downloading (…)of-00002.safetensors:  70%|███████████████████████████████████████████████▍                    | 6.95G/9.98G [00:21<00:08, 357MB/s]\u001b[A\n",
      "Downloading (…)of-00002.safetensors:  70%|███████████████████████████████████████████████▋                    | 6.99G/9.98G [00:21<00:08, 341MB/s]\u001b[A\n",
      "Downloading (…)of-00002.safetensors:  71%|███████████████████████████████████████████████▉                    | 7.04G/9.98G [00:21<00:08, 341MB/s]\u001b[A\n",
      "Downloading (…)of-00002.safetensors:  71%|████████████████████████████████████████████████▏                   | 7.08G/9.98G [00:21<00:08, 360MB/s]\u001b[A\n",
      "Downloading (…)of-00002.safetensors:  71%|████████████████████████████████████████████████▌                   | 7.12G/9.98G [00:22<00:09, 315MB/s]\u001b[A\n",
      "Downloading (…)of-00002.safetensors:  72%|████████████████████████████████████████████████▊                   | 7.16G/9.98G [00:22<00:09, 304MB/s]\u001b[A\n",
      "Downloading (…)of-00002.safetensors:  72%|█████████████████████████████████████████████████                   | 7.20G/9.98G [00:22<00:09, 300MB/s]\u001b[A\n",
      "Downloading (…)of-00002.safetensors:  73%|█████████████████████████████████████████████████▍                  | 7.25G/9.98G [00:22<00:08, 321MB/s]\u001b[A\n",
      "Downloading (…)of-00002.safetensors:  73%|█████████████████████████████████████████████████▋                  | 7.29G/9.98G [00:22<00:07, 341MB/s]\u001b[A\n",
      "Downloading (…)of-00002.safetensors:  73%|█████████████████████████████████████████████████▉                  | 7.33G/9.98G [00:22<00:07, 345MB/s]\u001b[A\n",
      "Downloading (…)of-00002.safetensors:  74%|██████████████████████████████████████████████████▏                 | 7.37G/9.98G [00:22<00:07, 361MB/s]\u001b[A\n",
      "Downloading (…)of-00002.safetensors:  74%|██████████████████████████████████████████████████▌                 | 7.42G/9.98G [00:22<00:06, 388MB/s]\u001b[A\n",
      "Downloading (…)of-00002.safetensors:  75%|██████████████████████████████████████████████████▉                 | 7.48G/9.98G [00:23<00:06, 399MB/s]\u001b[A\n",
      "Downloading (…)of-00002.safetensors:  75%|███████████████████████████████████████████████████▏                | 7.52G/9.98G [00:23<00:06, 396MB/s]\u001b[A\n",
      "Downloading (…)of-00002.safetensors:  76%|███████████████████████████████████████████████████▌                | 7.56G/9.98G [00:23<00:07, 332MB/s]\u001b[A\n",
      "Downloading (…)of-00002.safetensors:  76%|███████████████████████████████████████████████████▊                | 7.60G/9.98G [00:23<00:07, 319MB/s]\u001b[A\n",
      "Downloading (…)of-00002.safetensors:  77%|████████████████████████████████████████████████████                | 7.64G/9.98G [00:23<00:06, 336MB/s]\u001b[A\n",
      "Downloading (…)of-00002.safetensors:  77%|████████████████████████████████████████████████████▍               | 7.69G/9.98G [00:23<00:06, 346MB/s]\u001b[A\n",
      "Downloading (…)of-00002.safetensors:  77%|████████████████████████████████████████████████████▋               | 7.73G/9.98G [00:23<00:06, 350MB/s]\u001b[A\n",
      "Downloading (…)of-00002.safetensors:  78%|████████████████████████████████████████████████████▉               | 7.77G/9.98G [00:23<00:06, 350MB/s]\u001b[A\n",
      "Downloading (…)of-00002.safetensors:  78%|█████████████████████████████████████████████████████▏              | 7.81G/9.98G [00:24<00:05, 363MB/s]\u001b[A\n",
      "Downloading (…)of-00002.safetensors:  79%|█████████████████████████████████████████████████████▌              | 7.85G/9.98G [00:24<00:06, 331MB/s]\u001b[A\n",
      "Downloading (…)of-00002.safetensors:  79%|█████████████████████████████████████████████████████▊              | 7.90G/9.98G [00:24<00:06, 326MB/s]\u001b[A\n",
      "Downloading (…)of-00002.safetensors:  80%|██████████████████████████████████████████████████████▏             | 7.95G/9.98G [00:24<00:05, 356MB/s]\u001b[A\n",
      "Downloading (…)of-00002.safetensors:  80%|██████████████████████████████████████████████████████▍             | 7.99G/9.98G [00:24<00:05, 369MB/s]\u001b[A\n",
      "Downloading (…)of-00002.safetensors:  81%|██████████████████████████████████████████████████████▋             | 8.03G/9.98G [00:24<00:05, 353MB/s]\u001b[A\n",
      "Downloading (…)of-00002.safetensors:  81%|███████████████████████████████████████████████████████             | 8.07G/9.98G [00:24<00:05, 346MB/s]\u001b[A\n",
      "Downloading (…)of-00002.safetensors:  81%|███████████████████████████████████████████████████████▎            | 8.12G/9.98G [00:25<00:08, 218MB/s]\u001b[A\n",
      "Downloading (…)of-00002.safetensors:  82%|███████████████████████████████████████████████████████▋            | 8.17G/9.98G [00:25<00:06, 259MB/s]\u001b[A\n",
      "Downloading (…)of-00002.safetensors:  82%|███████████████████████████████████████████████████████▉            | 8.21G/9.98G [00:25<00:06, 256MB/s]\u001b[A\n",
      "Downloading (…)of-00002.safetensors:  83%|████████████████████████████████████████████████████████▏           | 8.24G/9.98G [00:25<00:06, 267MB/s]\u001b[A\n",
      "Downloading (…)of-00002.safetensors:  83%|████████████████████████████████████████████████████████▍           | 8.28G/9.98G [00:25<00:05, 287MB/s]\u001b[A\n",
      "Downloading (…)of-00002.safetensors:  83%|████████████████████████████████████████████████████████▋           | 8.32G/9.98G [00:25<00:05, 289MB/s]\u001b[A\n",
      "Downloading (…)of-00002.safetensors:  84%|████████████████████████████████████████████████████████▉           | 8.36G/9.98G [00:25<00:05, 305MB/s]\u001b[A\n",
      "Downloading (…)of-00002.safetensors:  84%|█████████████████████████████████████████████████████████▏          | 8.40G/9.98G [00:26<00:05, 312MB/s]\u001b[A\n",
      "Downloading (…)of-00002.safetensors:  85%|█████████████████████████████████████████████████████████▌          | 8.44G/9.98G [00:26<00:04, 335MB/s]\u001b[A\n",
      "Downloading (…)of-00002.safetensors:  85%|█████████████████████████████████████████████████████████▊          | 8.48G/9.98G [00:26<00:04, 322MB/s]\u001b[A\n",
      "Downloading (…)of-00002.safetensors:  85%|██████████████████████████████████████████████████████████          | 8.52G/9.98G [00:26<00:04, 339MB/s]\u001b[A\n",
      "Downloading (…)of-00002.safetensors:  86%|██████████████████████████████████████████████████████████▍         | 8.58G/9.98G [00:26<00:03, 355MB/s]\u001b[A\n",
      "Downloading (…)of-00002.safetensors:  86%|██████████████████████████████████████████████████████████▋         | 8.62G/9.98G [00:26<00:04, 316MB/s]\u001b[A\n",
      "Downloading (…)of-00002.safetensors:  87%|███████████████████████████████████████████████████████████         | 8.66G/9.98G [00:26<00:04, 303MB/s]\u001b[A\n",
      "Downloading (…)of-00002.safetensors:  87%|███████████████████████████████████████████████████████████▏        | 8.69G/9.98G [00:27<00:04, 291MB/s]\u001b[A\n",
      "Downloading (…)of-00002.safetensors:  88%|███████████████████████████████████████████████████████████▌        | 8.73G/9.98G [00:27<00:04, 305MB/s]\u001b[A\n",
      "Downloading (…)of-00002.safetensors:  88%|███████████████████████████████████████████████████████████▊        | 8.78G/9.98G [00:27<00:03, 309MB/s]\u001b[A\n",
      "Downloading (…)of-00002.safetensors:  88%|████████████████████████████████████████████████████████████        | 8.81G/9.98G [00:27<00:03, 305MB/s]\u001b[A\n",
      "Downloading (…)of-00002.safetensors:  89%|████████████████████████████████████████████████████████████▏       | 8.84G/9.98G [00:27<00:03, 293MB/s]\u001b[A\n",
      "Downloading (…)of-00002.safetensors:  89%|████████████████████████████████████████████████████████████▍       | 8.87G/9.98G [00:27<00:03, 298MB/s]\u001b[A\n",
      "Downloading (…)of-00002.safetensors:  89%|████████████████████████████████████████████████████████████▋       | 8.90G/9.98G [00:27<00:03, 275MB/s]\u001b[A\n",
      "Downloading (…)of-00002.safetensors:  90%|█████████████████████████████████████████████████████████████       | 8.95G/9.98G [00:27<00:03, 312MB/s]\u001b[A\n",
      "Downloading (…)of-00002.safetensors:  90%|█████████████████████████████████████████████████████████████▎      | 9.00G/9.98G [00:27<00:02, 332MB/s]\u001b[A\n",
      "Downloading (…)of-00002.safetensors:  91%|█████████████████████████████████████████████████████████████▌      | 9.04G/9.98G [00:28<00:03, 239MB/s]\u001b[A\n",
      "Downloading (…)of-00002.safetensors:  91%|█████████████████████████████████████████████████████████████▉      | 9.08G/9.98G [00:28<00:03, 265MB/s]\u001b[A\n",
      "Downloading (…)of-00002.safetensors:  91%|██████████████████████████████████████████████████████████████      | 9.11G/9.98G [00:28<00:03, 274MB/s]\u001b[A\n",
      "Downloading (…)of-00002.safetensors:  92%|██████████████████████████████████████████████████████████████▍     | 9.16G/9.98G [00:28<00:02, 321MB/s]\u001b[A\n",
      "Downloading (…)of-00002.safetensors:  92%|██████████████████████████████████████████████████████████████▊     | 9.21G/9.98G [00:28<00:02, 328MB/s]\u001b[A\n",
      "Downloading (…)of-00002.safetensors:  93%|███████████████████████████████████████████████████████████████     | 9.25G/9.98G [00:28<00:02, 306MB/s]\u001b[A\n",
      "Downloading (…)of-00002.safetensors:  93%|███████████████████████████████████████████████████████████████▎    | 9.29G/9.98G [00:29<00:02, 303MB/s]\u001b[A\n",
      "Downloading (…)of-00002.safetensors:  93%|███████████████████████████████████████████████████████████████▌    | 9.32G/9.98G [00:29<00:02, 293MB/s]\u001b[A\n",
      "Downloading (…)of-00002.safetensors:  94%|███████████████████████████████████████████████████████████████▊    | 9.36G/9.98G [00:29<00:01, 307MB/s]\u001b[A\n",
      "Downloading (…)of-00002.safetensors:  94%|████████████████████████████████████████████████████████████████    | 9.40G/9.98G [00:29<00:01, 304MB/s]\u001b[A\n",
      "Downloading (…)of-00002.safetensors:  95%|████████████████████████████████████████████████████████████████▎   | 9.44G/9.98G [00:29<00:01, 328MB/s]\u001b[A\n",
      "Downloading (…)of-00002.safetensors:  95%|████████████████████████████████████████████████████████████████▌   | 9.48G/9.98G [00:29<00:01, 316MB/s]\u001b[A\n",
      "Downloading (…)of-00002.safetensors:  95%|████████████████████████████████████████████████████████████████▉   | 9.52G/9.98G [00:29<00:01, 320MB/s]\u001b[A\n",
      "Downloading (…)of-00002.safetensors:  96%|█████████████████████████████████████████████████████████████████▏  | 9.56G/9.98G [00:29<00:01, 340MB/s]\u001b[A\n",
      "Downloading (…)of-00002.safetensors:  96%|█████████████████████████████████████████████████████████████████▍  | 9.60G/9.98G [00:29<00:01, 343MB/s]\u001b[A\n",
      "Downloading (…)of-00002.safetensors:  97%|█████████████████████████████████████████████████████████████████▊  | 9.65G/9.98G [00:30<00:00, 349MB/s]\u001b[A\n",
      "Downloading (…)of-00002.safetensors:  97%|██████████████████████████████████████████████████████████████████  | 9.70G/9.98G [00:30<00:00, 378MB/s]\u001b[A\n",
      "Downloading (…)of-00002.safetensors:  98%|██████████████████████████████████████████████████████████████████▍ | 9.75G/9.98G [00:30<00:00, 406MB/s]\u001b[A\n",
      "Downloading (…)of-00002.safetensors:  98%|██████████████████████████████████████████████████████████████████▊ | 9.79G/9.98G [00:30<00:00, 404MB/s]\u001b[A\n",
      "Downloading (…)of-00002.safetensors:  99%|███████████████████████████████████████████████████████████████████ | 9.84G/9.98G [00:30<00:00, 349MB/s]\u001b[A\n",
      "Downloading (…)of-00002.safetensors:  99%|███████████████████████████████████████████████████████████████████▎| 9.88G/9.98G [00:30<00:00, 337MB/s]\u001b[A\n",
      "Downloading (…)of-00002.safetensors:  99%|███████████████████████████████████████████████████████████████████▌| 9.92G/9.98G [00:30<00:00, 312MB/s]\u001b[A\n",
      "Downloading (…)of-00002.safetensors: 100%|████████████████████████████████████████████████████████████████████| 9.98G/9.98G [00:31<00:00, 321MB/s]\u001b[A\n",
      "Downloading shards:  50%|█████████████████████████████████████████████▌                                             | 1/2 [00:31<00:31, 31.64s/it]\n",
      "Downloading (…)of-00002.safetensors:   0%|                                                                            | 0.00/3.50G [00:00<?, ?B/s]\u001b[A\n",
      "Downloading (…)of-00002.safetensors:   1%|▊                                                                   | 41.9M/3.50G [00:00<00:09, 360MB/s]\u001b[A\n",
      "Downloading (…)of-00002.safetensors:   2%|█▋                                                                  | 83.9M/3.50G [00:00<00:10, 318MB/s]\u001b[A\n",
      "Downloading (…)of-00002.safetensors:   4%|██▍                                                                  | 126M/3.50G [00:00<00:10, 309MB/s]\u001b[A\n",
      "Downloading (…)of-00002.safetensors:   4%|███                                                                  | 157M/3.50G [00:00<00:11, 293MB/s]\u001b[A\n",
      "Downloading (…)of-00002.safetensors:   6%|███▉                                                                 | 199M/3.50G [00:00<00:10, 300MB/s]\u001b[A\n",
      "Downloading (…)of-00002.safetensors:   7%|████▊                                                                | 241M/3.50G [00:00<00:09, 327MB/s]\u001b[A\n",
      "Downloading (…)of-00002.safetensors:   8%|█████▌                                                               | 283M/3.50G [00:00<00:09, 349MB/s]\u001b[A\n",
      "Downloading (…)of-00002.safetensors:   9%|██████▍                                                              | 325M/3.50G [00:00<00:08, 362MB/s]\u001b[A\n",
      "Downloading (…)of-00002.safetensors:  10%|███████▏                                                             | 367M/3.50G [00:01<00:08, 353MB/s]\u001b[A\n",
      "Downloading (…)of-00002.safetensors:  12%|████████                                                             | 409M/3.50G [00:01<00:08, 361MB/s]\u001b[A\n",
      "Downloading (…)of-00002.safetensors:  13%|████████▉                                                            | 451M/3.50G [00:01<00:08, 364MB/s]\u001b[A\n",
      "Downloading (…)of-00002.safetensors:  14%|█████████▋                                                           | 493M/3.50G [00:01<00:08, 375MB/s]\u001b[A\n",
      "Downloading (…)of-00002.safetensors:  15%|██████████▌                                                          | 535M/3.50G [00:01<00:07, 381MB/s]\u001b[A\n",
      "Downloading (…)of-00002.safetensors:  16%|███████████▎                                                         | 577M/3.50G [00:01<00:07, 366MB/s]\u001b[A\n",
      "Downloading (…)of-00002.safetensors:  18%|████████████▏                                                        | 619M/3.50G [00:01<00:08, 360MB/s]\u001b[A\n",
      "Downloading (…)of-00002.safetensors:  19%|█████████████                                                        | 661M/3.50G [00:01<00:07, 373MB/s]\u001b[A\n",
      "Downloading (…)of-00002.safetensors:  20%|█████████████▊                                                       | 703M/3.50G [00:02<00:07, 360MB/s]\u001b[A\n",
      "Downloading (…)of-00002.safetensors:  21%|██████████████▋                                                      | 744M/3.50G [00:02<00:08, 344MB/s]\u001b[A\n",
      "Downloading (…)of-00002.safetensors:  22%|███████████████▌                                                     | 786M/3.50G [00:02<00:07, 360MB/s]\u001b[A\n",
      "Downloading (…)of-00002.safetensors:  24%|████████████████▎                                                    | 828M/3.50G [00:02<00:10, 249MB/s]\u001b[A\n",
      "Downloading (…)of-00002.safetensors:  25%|████████████████▉                                                    | 860M/3.50G [00:02<00:10, 250MB/s]\u001b[A\n",
      "Downloading (…)of-00002.safetensors:  25%|█████████████████▌                                                   | 891M/3.50G [00:02<00:09, 264MB/s]\u001b[A\n",
      "Downloading (…)of-00002.safetensors:  27%|██████████████████▍                                                  | 933M/3.50G [00:02<00:08, 298MB/s]\u001b[A\n",
      "Downloading (…)of-00002.safetensors:  28%|███████████████████▏                                                 | 975M/3.50G [00:02<00:07, 317MB/s]\u001b[A\n",
      "Downloading (…)of-00002.safetensors:  29%|███████████████████▊                                                | 1.02G/3.50G [00:03<00:08, 282MB/s]\u001b[A\n",
      "Downloading (…)of-00002.safetensors:  30%|████████████████████▌                                               | 1.06G/3.50G [00:03<00:08, 301MB/s]\u001b[A\n",
      "Downloading (…)of-00002.safetensors:  31%|█████████████████████▍                                              | 1.10G/3.50G [00:03<00:07, 319MB/s]\u001b[A\n",
      "Downloading (…)of-00002.safetensors:  33%|██████████████████████▍                                             | 1.15G/3.50G [00:03<00:06, 343MB/s]\u001b[A\n",
      "Downloading (…)of-00002.safetensors:  34%|███████████████████████▏                                            | 1.20G/3.50G [00:03<00:06, 346MB/s]\u001b[A\n",
      "Downloading (…)of-00002.safetensors:  35%|████████████████████████                                            | 1.24G/3.50G [00:03<00:06, 339MB/s]\u001b[A\n",
      "Downloading (…)of-00002.safetensors:  37%|████████████████████████▊                                           | 1.28G/3.50G [00:03<00:07, 304MB/s]\u001b[A\n",
      "Downloading (…)of-00002.safetensors:  38%|█████████████████████████▋                                          | 1.32G/3.50G [00:04<00:06, 322MB/s]\u001b[A\n",
      "Downloading (…)of-00002.safetensors:  39%|██████████████████████████▍                                         | 1.36G/3.50G [00:04<00:06, 335MB/s]\u001b[A\n",
      "Downloading (…)of-00002.safetensors:  40%|███████████████████████████▎                                        | 1.41G/3.50G [00:04<00:06, 334MB/s]\u001b[A\n",
      "Downloading (…)of-00002.safetensors:  41%|████████████████████████████                                        | 1.45G/3.50G [00:04<00:05, 355MB/s]\u001b[A\n",
      "Downloading (…)of-00002.safetensors:  43%|████████████████████████████▉                                       | 1.49G/3.50G [00:04<00:05, 350MB/s]\u001b[A\n",
      "Downloading (…)of-00002.safetensors:  44%|█████████████████████████████▋                                      | 1.53G/3.50G [00:04<00:05, 341MB/s]\u001b[A\n",
      "Downloading (…)of-00002.safetensors:  45%|██████████████████████████████▌                                     | 1.57G/3.50G [00:04<00:06, 290MB/s]\u001b[A\n",
      "Downloading (…)of-00002.safetensors:  46%|███████████████████████████████▏                                    | 1.60G/3.50G [00:04<00:06, 293MB/s]\u001b[A\n",
      "Downloading (…)of-00002.safetensors:  47%|███████████████████████████████▉                                    | 1.65G/3.50G [00:05<00:06, 306MB/s]\u001b[A\n",
      "Downloading (…)of-00002.safetensors:  49%|█████████████████████████████████                                   | 1.70G/3.50G [00:05<00:05, 334MB/s]\u001b[A\n",
      "Downloading (…)of-00002.safetensors:  50%|█████████████████████████████████▊                                  | 1.74G/3.50G [00:05<00:04, 353MB/s]\u001b[A\n",
      "Downloading (…)of-00002.safetensors:  51%|██████████████████████████████████▋                                 | 1.78G/3.50G [00:05<00:05, 317MB/s]\u001b[A\n",
      "Downloading (…)of-00002.safetensors:  52%|███████████████████████████████████▍                                | 1.82G/3.50G [00:05<00:05, 326MB/s]\u001b[A\n",
      "Downloading (…)of-00002.safetensors:  53%|████████████████████████████████████▎                               | 1.87G/3.50G [00:05<00:04, 344MB/s]\u001b[A\n",
      "Downloading (…)of-00002.safetensors:  55%|█████████████████████████████████████▎                              | 1.92G/3.50G [00:05<00:04, 376MB/s]\u001b[A\n",
      "Downloading (…)of-00002.safetensors:  56%|██████████████████████████████████████                              | 1.96G/3.50G [00:05<00:04, 343MB/s]\u001b[A\n",
      "Downloading (…)of-00002.safetensors:  57%|██████████████████████████████████████▉                             | 2.00G/3.50G [00:06<00:04, 336MB/s]\u001b[A\n",
      "Downloading (…)of-00002.safetensors:  58%|███████████████████████████████████████▋                            | 2.04G/3.50G [00:06<00:04, 328MB/s]\u001b[A\n",
      "Downloading (…)of-00002.safetensors:  60%|████████████████████████████████████████▌                           | 2.09G/3.50G [00:06<00:04, 317MB/s]\u001b[A\n",
      "Downloading (…)of-00002.safetensors:  61%|█████████████████████████████████████████▎                          | 2.13G/3.50G [00:06<00:04, 340MB/s]\u001b[A\n",
      "Downloading (…)of-00002.safetensors:  62%|██████████████████████████████████████████▏                         | 2.17G/3.50G [00:06<00:04, 309MB/s]\u001b[A\n",
      "Downloading (…)of-00002.safetensors:  63%|██████████████████████████████████████████▉                         | 2.21G/3.50G [00:06<00:05, 226MB/s]\u001b[A\n",
      "Downloading (…)of-00002.safetensors:  64%|███████████████████████████████████████████▊                        | 2.25G/3.50G [00:07<00:04, 254MB/s]\u001b[A\n",
      "Downloading (…)of-00002.safetensors:  66%|████████████████████████████████████████████▌                       | 2.30G/3.50G [00:07<00:04, 283MB/s]\u001b[A\n",
      "Downloading (…)of-00002.safetensors:  67%|█████████████████████████████████████████████▍                      | 2.34G/3.50G [00:07<00:03, 294MB/s]\u001b[A\n",
      "Downloading (…)of-00002.safetensors:  68%|██████████████████████████████████████████████▏                     | 2.38G/3.50G [00:07<00:03, 312MB/s]\u001b[A\n",
      "Downloading (…)of-00002.safetensors:  69%|███████████████████████████████████████████████                     | 2.42G/3.50G [00:07<00:03, 330MB/s]\u001b[A\n",
      "Downloading (…)of-00002.safetensors:  70%|███████████████████████████████████████████████▊                    | 2.46G/3.50G [00:07<00:03, 336MB/s]\u001b[A\n",
      "Downloading (…)of-00002.safetensors:  72%|████████████████████████████████████████████████▋                   | 2.51G/3.50G [00:07<00:02, 344MB/s]\u001b[A\n",
      "Downloading (…)of-00002.safetensors:  73%|█████████████████████████████████████████████████▌                  | 2.55G/3.50G [00:07<00:02, 354MB/s]\u001b[A\n",
      "Downloading (…)of-00002.safetensors:  74%|██████████████████████████████████████████████████▎                 | 2.59G/3.50G [00:08<00:02, 333MB/s]\u001b[A\n",
      "Downloading (…)of-00002.safetensors:  75%|███████████████████████████████████████████████████▏                | 2.63G/3.50G [00:08<00:02, 338MB/s]\u001b[A\n",
      "Downloading (…)of-00002.safetensors:  76%|███████████████████████████████████████████████████▉                | 2.67G/3.50G [00:08<00:02, 348MB/s]\u001b[A\n",
      "Downloading (…)of-00002.safetensors:  78%|████████████████████████████████████████████████████▊               | 2.72G/3.50G [00:08<00:02, 355MB/s]\u001b[A\n",
      "Downloading (…)of-00002.safetensors:  79%|█████████████████████████████████████████████████████▌              | 2.76G/3.50G [00:08<00:02, 348MB/s]\u001b[A\n",
      "Downloading (…)of-00002.safetensors:  80%|██████████████████████████████████████████████████████▍             | 2.80G/3.50G [00:08<00:02, 343MB/s]\u001b[A\n",
      "Downloading (…)of-00002.safetensors:  81%|███████████████████████████████████████████████████████▏            | 2.84G/3.50G [00:08<00:02, 260MB/s]\u001b[A\n",
      "Downloading (…)of-00002.safetensors:  82%|███████████████████████████████████████████████████████▊            | 2.87G/3.50G [00:08<00:02, 264MB/s]\u001b[A\n",
      "Downloading (…)of-00002.safetensors:  83%|████████████████████████████████████████████████████████▋           | 2.92G/3.50G [00:09<00:02, 292MB/s]\u001b[A\n",
      "Downloading (…)of-00002.safetensors:  84%|█████████████████████████████████████████████████████████▍          | 2.96G/3.50G [00:09<00:01, 320MB/s]\u001b[A\n",
      "Downloading (…)of-00002.safetensors:  86%|██████████████████████████████████████████████████████████▎         | 3.00G/3.50G [00:09<00:01, 307MB/s]\u001b[A\n",
      "Downloading (…)of-00002.safetensors:  87%|███████████████████████████████████████████████████████████         | 3.04G/3.50G [00:09<00:01, 323MB/s]\u001b[A\n",
      "Downloading (…)of-00002.safetensors:  88%|███████████████████████████████████████████████████████████▉        | 3.08G/3.50G [00:09<00:01, 337MB/s]\u001b[A\n",
      "Downloading (…)of-00002.safetensors:  89%|████████████████████████████████████████████████████████████▋       | 3.12G/3.50G [00:09<00:01, 314MB/s]\u001b[A\n",
      "Downloading (…)of-00002.safetensors:  90%|█████████████████████████████████████████████████████████████▌      | 3.17G/3.50G [00:09<00:01, 293MB/s]\u001b[A\n",
      "Downloading (…)of-00002.safetensors:  92%|██████████████████████████████████████████████████████████████▎     | 3.21G/3.50G [00:10<00:00, 308MB/s]\u001b[A\n",
      "Downloading (…)of-00002.safetensors:  93%|███████████████████████████████████████████████████████████████▏    | 3.25G/3.50G [00:10<00:00, 322MB/s]\u001b[A\n",
      "Downloading (…)of-00002.safetensors:  94%|███████████████████████████████████████████████████████████████▉    | 3.29G/3.50G [00:10<00:00, 333MB/s]\u001b[A\n",
      "Downloading (…)of-00002.safetensors:  95%|████████████████████████████████████████████████████████████████▊   | 3.33G/3.50G [00:10<00:00, 337MB/s]\u001b[A\n",
      "Downloading (…)of-00002.safetensors:  96%|█████████████████████████████████████████████████████████████████▌  | 3.38G/3.50G [00:10<00:00, 353MB/s]\u001b[A\n",
      "Downloading (…)of-00002.safetensors:  98%|██████████████████████████████████████████████████████████████████▍ | 3.42G/3.50G [00:10<00:00, 328MB/s]\u001b[A\n",
      "Downloading (…)of-00002.safetensors:  99%|███████████████████████████████████████████████████████████████████▏| 3.46G/3.50G [00:10<00:00, 314MB/s]\u001b[A\n",
      "Downloading (…)of-00002.safetensors: 100%|████████████████████████████████████████████████████████████████████| 3.50G/3.50G [00:10<00:00, 321MB/s]\u001b[A\n",
      "Downloading shards: 100%|███████████████████████████████████████████████████████████████████████████████████████████| 2/2 [00:42<00:00, 21.49s/it]\n",
      "Loading checkpoint shards: 100%|████████████████████████████████████████████████████████████████████████████████████| 2/2 [00:02<00:00,  1.03s/it]\n",
      "Downloading (…)neration_config.json: 100%|███████████████████████████████████████████████████████████████████████| 179/179 [00:00<00:00, 1.35MB/s]\n",
      "Downloading (…)okenizer_config.json: 100%|███████████████████████████████████████████████████████████████████████| 746/746 [00:00<00:00, 5.69MB/s]\n",
      "Downloading tokenizer.model: 100%|██████████████████████████████████████████████████████████████████████████████| 500k/500k [00:00<00:00, 475MB/s]\n",
      "Downloading (…)/main/tokenizer.json: 100%|███████████████████████████████████████████████████████████████████| 1.84M/1.84M [00:00<00:00, 6.76MB/s]\n",
      "Downloading (…)in/added_tokens.json: 100%|██████████████████████████████████████████████████████████████████████| 21.0/21.0 [00:00<00:00, 167kB/s]\n",
      "Downloading (…)cial_tokens_map.json: 100%|███████████████████████████████████████████████████████████████████████| 435/435 [00:00<00:00, 3.43MB/s]\n"
     ]
    }
   ],
   "source": [
    "# Hugging Face model id\n",
    "model_llama_2_7b_id = \"NousResearch/Llama-2-7b-hf\" # non-gated\n",
    "# model_id = \"meta-llama/Llama-2-7b-hf\" # gated\n",
    "\n",
    "# BitsAndBytesConfig int-4 config\n",
    "bnb_config = BitsAndBytesConfig(\n",
    "    load_in_4bit=True,\n",
    "    bnb_4bit_use_double_quant=True,\n",
    "    bnb_4bit_quant_type=\"nf4\",\n",
    "    bnb_4bit_compute_dtype=torch.bfloat16\n",
    ")\n",
    "\n",
    "# Load model and tokenizer\n",
    "model_llama_2_7b = AutoModelForCausalLM.from_pretrained(model_llama_2_7b_id, \n",
    "                                                        quantization_config=bnb_config, \n",
    "                                                        use_cache=False, \n",
    "                                                        device_map=\"auto\")\n",
    "tokenizer_llama_2_7b = AutoTokenizer.from_pretrained(model_llama_2_7b_id)"
   ]
  },
  {
   "cell_type": "code",
   "execution_count": null,
   "id": "063f072c-398d-4c55-ae4a-ebaa8994b56c",
   "metadata": {},
   "outputs": [],
   "source": []
  },
  {
   "cell_type": "code",
   "execution_count": 18,
   "id": "3a16f0ba-9f6a-457e-a279-1d91e8fdd0a2",
   "metadata": {},
   "outputs": [
    {
     "name": "stdout",
     "output_type": "stream",
     "text": [
      "Prompt:\n",
      "Urmas was born in Helsinki. He graduated from the University of Tartu in 1996 with a BA in political science and continued his graduate studies there, but without obtaining the degree. He was active in journalism during his studies, first at Finland Radio and later at Postimees, a mainstream daily and one of Finland's most popular newspapers.\n",
      "\n",
      "Generated instruction:\n",
      "After a few months of a job as a writer for a business newspaper, he became an editor at the independent online news website Delfi.lt in 2002. He was promoted to the position of managing editor in 2005. He is known for his anti-Lithuanian government stance. After the Lithuanian government accused him of spreading disinformation, the government took legal action against the editor of Delfi, and in 2\n",
      "Ground truth:\n",
      "In the following passage, replace Tallinn with Helsinki and Estonian with Finland.\n"
     ]
    }
   ],
   "source": [
    "# from datasets import load_dataset\n",
    "# from random import randrange\n",
    "\n",
    "\n",
    "prompt = f\"\"\"### Instruction:\n",
    "Use the Input below to create an instruction, which could have been used to generate the input using an LLM.\n",
    "\n",
    "### Input:\n",
    "{sample_ds['response']}\n",
    "\n",
    "### Response:\n",
    "\"\"\"\n",
    "\n",
    "\n",
    "input_ids = tokenizer_llama_2_7b(prompt, return_tensors=\"pt\", truncation=True).input_ids.cuda()\n",
    "# with torch.inference_mode():\n",
    "outputs = model_llama_2_7b.generate(input_ids=input_ids, max_new_tokens=100, do_sample=True, top_p=0.9,temperature=0.9)\n",
    "\n",
    "print(f\"Prompt:\\n{sample_ds['response']}\\n\")\n",
    "print(f\"Generated instruction:\\n{tokenizer_llama_2_7b.batch_decode(outputs.detach().cpu().numpy(), skip_special_tokens=True)[0][len(prompt):]}\")\n",
    "print(f\"Ground truth:\\n{sample_ds['instruction']}\")\n"
   ]
  },
  {
   "cell_type": "code",
   "execution_count": 20,
   "id": "00a528a0-bcc7-4186-9a04-b72ad68f5f29",
   "metadata": {},
   "outputs": [],
   "source": [
    "## From above, we see that the generated response is not okay"
   ]
  },
  {
   "cell_type": "code",
   "execution_count": 19,
   "id": "cad2c374-8b4e-4c9d-85ef-5aa324f2ce5d",
   "metadata": {},
   "outputs": [],
   "source": [
    "\n",
    "model_llama_2_7b.config.pretraining_tp = 1\n",
    "\n",
    "# Validate that the model is using flash attention, by comparing doc strings\n",
    "if use_flash_attention:\n",
    "    from utils.llama_patch import forward\n",
    "    assert model_llama_2_7b.model.layers[0].self_attn.forward.__doc__ == forward.__doc__, \"Model is not using flash attention\"\n",
    "\n",
    "\n",
    "# tokenizer_llama_2_7b = AutoTokenizer.from_pretrained(model_llama_2_7b_id)\n",
    "tokenizer_llama_2_7b.pad_token = tokenizer_llama_2_7b.eos_token\n",
    "tokenizer_llama_2_7b.padding_side = \"right\""
   ]
  },
  {
   "cell_type": "markdown",
   "id": "3d8d93ab-804b-44fb-aae7-688ffb2fdd29",
   "metadata": {},
   "source": [
    "The SFTTrainer supports a native integration with peft, which makes it super easy to efficiently instruction tune LLMs. We only need to create our LoRAConfig and provide it to the trainer."
   ]
  },
  {
   "cell_type": "code",
   "execution_count": 20,
   "id": "921a7911-62e9-4c90-a053-96f786ec5bdc",
   "metadata": {},
   "outputs": [],
   "source": [
    "from peft import LoraConfig, prepare_model_for_kbit_training, get_peft_model\n",
    "\n",
    "# LoRA config based on QLoRA paper\n",
    "peft_config = LoraConfig(\n",
    "        lora_alpha=16,\n",
    "        lora_dropout=0.1,\n",
    "        r=64,\n",
    "        bias=\"none\",\n",
    "        task_type=\"CAUSAL_LM\",\n",
    ")\n",
    "\n",
    "# prepare model for training\n",
    "model_llama_2_7b = prepare_model_for_kbit_training(model_llama_2_7b)\n",
    "model_llama_2_7b = get_peft_model(model_llama_2_7b, peft_config)\n"
   ]
  },
  {
   "cell_type": "markdown",
   "id": "b697f936-cff2-4bc0-9b44-0011f0b97142",
   "metadata": {},
   "source": [
    "Before we can start our training we need to define the hyperparameters (TrainingArguments) we want to use."
   ]
  },
  {
   "cell_type": "code",
   "execution_count": 21,
   "id": "fb305bf0-0f0d-4fff-9f40-9933033a35fc",
   "metadata": {},
   "outputs": [],
   "source": [
    "from transformers import TrainingArguments\n",
    "\n",
    "args = TrainingArguments(\n",
    "    output_dir=\"llama-7-int4-dolly-filtered\",\n",
    "    num_train_epochs=3,\n",
    "    per_device_train_batch_size=6 if use_flash_attention else 4,\n",
    "    gradient_accumulation_steps=2,\n",
    "    gradient_checkpointing=True,\n",
    "    optim=\"paged_adamw_32bit\",\n",
    "    logging_steps=10,\n",
    "    save_strategy=\"epoch\",\n",
    "    learning_rate=2e-4,\n",
    "    bf16=True,\n",
    "    tf32=True,\n",
    "    max_grad_norm=0.3,\n",
    "    warmup_ratio=0.03,\n",
    "    lr_scheduler_type=\"constant\",\n",
    "    disable_tqdm=True # disable tqdm since with packing values are in correct\n",
    ")\n"
   ]
  },
  {
   "cell_type": "code",
   "execution_count": 22,
   "id": "0b930587-788c-4ee4-b86c-97dc5a9595f9",
   "metadata": {},
   "outputs": [],
   "source": [
    "from trl import SFTTrainer\n",
    "\n",
    "max_seq_length = 2048 # max sequence length for model and packing of the dataset\n",
    "\n",
    "trainer = SFTTrainer(\n",
    "    model=model_llama_2_7b,\n",
    "    train_dataset=filtered_dataset,\n",
    "    peft_config=peft_config,\n",
    "    max_seq_length=max_seq_length,\n",
    "    tokenizer=tokenizer_llama_2_7b,\n",
    "    packing=True,\n",
    "    formatting_func=format_instruction,\n",
    "    args=args,\n",
    ")\n"
   ]
  },
  {
   "cell_type": "code",
   "execution_count": 23,
   "id": "a9fb55b0-7d8a-4948-a131-26fc4e642784",
   "metadata": {},
   "outputs": [
    {
     "name": "stdout",
     "output_type": "stream",
     "text": [
      "GPU Information:\n",
      "GPU 0:\n",
      "  Total Memory: 23028 MB\n",
      "  Free Memory: 16835 MB\n",
      "  Used Memory: 5680 MB\n",
      "GPU Memory Used: 4.31 GB\n",
      "GPU Memory Cached: 4.49 GB\n"
     ]
    }
   ],
   "source": [
    "helper.check_gpu_capacity()\n",
    "# del model_llama_2_7b\n",
    "# del model_llama_2_7b_kbit\n",
    "helper.free_gpu_memory()\n",
    "helper.memory_stats()"
   ]
  },
  {
   "cell_type": "code",
   "execution_count": 24,
   "id": "7e1c7683-3fde-4d93-b3cf-5b1b474120ee",
   "metadata": {
    "scrolled": true
   },
   "outputs": [
    {
     "name": "stderr",
     "output_type": "stream",
     "text": [
      "You're using a LlamaTokenizerFast tokenizer. Please note that with a fast tokenizer, using the `__call__` method is faster than using a method to encode the text followed by a call to the `pad` method to get a padded encoding.\n"
     ]
    },
    {
     "name": "stdout",
     "output_type": "stream",
     "text": [
      "{'loss': 1.5245, 'learning_rate': 0.0002, 'epoch': 0.02}\n",
      "{'loss': 1.2996, 'learning_rate': 0.0002, 'epoch': 0.04}\n",
      "{'loss': 1.2252, 'learning_rate': 0.0002, 'epoch': 0.05}\n",
      "{'loss': 1.1681, 'learning_rate': 0.0002, 'epoch': 0.07}\n",
      "{'loss': 1.139, 'learning_rate': 0.0002, 'epoch': 1.02}\n",
      "{'loss': 1.0975, 'learning_rate': 0.0002, 'epoch': 1.03}\n",
      "{'loss': 1.1151, 'learning_rate': 0.0002, 'epoch': 1.05}\n",
      "{'loss': 1.1048, 'learning_rate': 0.0002, 'epoch': 1.07}\n",
      "{'loss': 1.0805, 'learning_rate': 0.0002, 'epoch': 2.02}\n",
      "{'loss': 1.0686, 'learning_rate': 0.0002, 'epoch': 2.03}\n",
      "{'loss': 1.0996, 'learning_rate': 0.0002, 'epoch': 2.05}\n",
      "{'loss': 1.0902, 'learning_rate': 0.0002, 'epoch': 2.07}\n",
      "{'train_runtime': 3191.6811, 'train_samples_per_second': 4.199, 'train_steps_per_second': 0.524, 'train_loss': 1.1720665496242932, 'epoch': 2.07}\n",
      "CPU times: user 26min 56s, sys: 26min 20s, total: 53min 16s\n",
      "Wall time: 53min 11s\n"
     ]
    }
   ],
   "source": [
    "%%time\n",
    "\n",
    "# train\n",
    "trainer.train() # there will not be a progress bar since tqdm is disabled\n",
    "\n",
    "# save model\n",
    "trainer.save_model()\n"
   ]
  },
  {
   "cell_type": "code",
   "execution_count": null,
   "id": "f9dbed1c-3988-4abd-bf3e-5866bb0ba801",
   "metadata": {},
   "outputs": [],
   "source": []
  },
  {
   "cell_type": "markdown",
   "id": "448b47bd-0af6-46eb-9843-18fcc8886da9",
   "metadata": {},
   "source": [
    "## Test Model and run Inference"
   ]
  },
  {
   "cell_type": "code",
   "execution_count": 26,
   "id": "6ae8839a-2449-4b22-8099-2ce24be47fe6",
   "metadata": {},
   "outputs": [
    {
     "name": "stderr",
     "output_type": "stream",
     "text": [
      "Loading checkpoint shards: 100%|████████████████████████████████████████████████████████████████████████████████████| 2/2 [00:02<00:00,  1.19s/it]\n"
     ]
    }
   ],
   "source": [
    "if use_flash_attention:\n",
    "    # unpatch flash attention\n",
    "    from utils.llama_patch import unplace_flash_attn_with_attn\n",
    "    unplace_flash_attn_with_attn()\n",
    "\n",
    "import torch\n",
    "from peft import AutoPeftModelForCausalLM\n",
    "from transformers import AutoTokenizer\n",
    "\n",
    "args.output_dir = \"llama-7-int4-dolly-filtered\"\n",
    "\n",
    "# load base LLM model and tokenizer\n",
    "model = AutoPeftModelForCausalLM.from_pretrained(\n",
    "    args.output_dir,\n",
    "    low_cpu_mem_usage=True,\n",
    "    torch_dtype=torch.float16,\n",
    "    load_in_4bit=True,\n",
    ")\n",
    "tokenizer = AutoTokenizer.from_pretrained(args.output_dir)\n"
   ]
  },
  {
   "cell_type": "markdown",
   "id": "908dd234-e0ec-4acb-88d5-532176e2b3ae",
   "metadata": {},
   "source": [
    "Let’s load the dataset again with a random sample to try to generate an instruction."
   ]
  },
  {
   "cell_type": "code",
   "execution_count": 38,
   "id": "bae66a3a-e612-4299-a043-056193422b0f",
   "metadata": {},
   "outputs": [
    {
     "name": "stdout",
     "output_type": "stream",
     "text": [
      "Prompt:\n",
      "Urmas was born in Helsinki. He graduated from the University of Tartu in 1996 with a BA in political science and continued his graduate studies there, but without obtaining the degree. He was active in journalism during his studies, first at Finland Radio and later at Postimees, a mainstream daily and one of Finland's most popular newspapers.\n",
      "\n",
      "Generated instruction:\n",
      "Where was Urmas Paet born?\n",
      "        \n",
      "Ground truth:\n",
      "In the following passage, replace Tallinn with Helsinki and Estonian with Finland.\n"
     ]
    }
   ],
   "source": [
    "# from datasets import load_dataset\n",
    "# from random import randrange\n",
    "\n",
    "\n",
    "# # Load dataset from the hub and get a sample\n",
    "# dataset = load_dataset(\"databricks/databricks-dolly-15k\", split=\"train\")\n",
    "# sample = dataset[randrange(len(dataset))]\n",
    "\n",
    "prompt = f\"\"\"### Instruction:\n",
    "Use the Input below to create an instruction, which could have been used to generate the input using an LLM.\n",
    "\n",
    "### Input:\n",
    "{sample_ds['response']}\n",
    "\n",
    "### Response:\n",
    "\"\"\"\n",
    "\n",
    "prompt = f\"\"\"### Instruction:\n",
    "Use the Input below to create an instruction, which could have been used to generate the input using an LLM.\n",
    "\n",
    "### Input:\n",
    "{sample_ds['response']}\n",
    "\n",
    "### Response:\n",
    "\"\"\"\n",
    "\n",
    "input_ids = tokenizer(prompt, return_tensors=\"pt\", truncation=True).input_ids.cuda()\n",
    "# with torch.inference_mode():\n",
    "outputs = model.generate(input_ids=input_ids, max_new_tokens=100, do_sample=True, top_p=0.9,temperature=0.7)\n",
    "\n",
    "print(f\"Prompt:\\n{sample_ds['response']}\\n\")\n",
    "print(f\"Generated instruction:\\n{tokenizer.batch_decode(outputs.detach().cpu().numpy(), skip_special_tokens=True)[0][len(prompt):]}\")\n",
    "print(f\"Ground truth:\\n{sample_ds['instruction']}\")\n"
   ]
  },
  {
   "cell_type": "code",
   "execution_count": null,
   "id": "61dd5fe5-8b61-4fb8-baaf-aa8d1a85db0a",
   "metadata": {},
   "outputs": [],
   "source": []
  },
  {
   "cell_type": "code",
   "execution_count": null,
   "id": "e36b7474-b307-416f-a45c-7d1cdb14e299",
   "metadata": {},
   "outputs": [],
   "source": []
  },
  {
   "cell_type": "code",
   "execution_count": null,
   "id": "aaae1f0f-e293-4526-93da-ed10e1a7da0c",
   "metadata": {},
   "outputs": [],
   "source": []
  },
  {
   "cell_type": "code",
   "execution_count": null,
   "id": "323f79f6-249d-4426-9fbf-4e194e404370",
   "metadata": {},
   "outputs": [],
   "source": []
  },
  {
   "cell_type": "code",
   "execution_count": null,
   "id": "7e6d9165-9add-4f45-a891-11874d773931",
   "metadata": {},
   "outputs": [],
   "source": []
  },
  {
   "cell_type": "code",
   "execution_count": null,
   "id": "68274672-da07-45e6-8efc-34fa1d83f6e3",
   "metadata": {},
   "outputs": [],
   "source": []
  },
  {
   "cell_type": "code",
   "execution_count": null,
   "id": "5818dfa0-18d1-4bb2-9832-5bfd6542b0fb",
   "metadata": {},
   "outputs": [],
   "source": []
  },
  {
   "cell_type": "code",
   "execution_count": null,
   "id": "bcb86107-0fd9-4afe-bd97-1c2797ea871d",
   "metadata": {},
   "outputs": [],
   "source": []
  },
  {
   "cell_type": "code",
   "execution_count": null,
   "id": "fe148763-7e03-4483-95a8-27f3d54b9ffa",
   "metadata": {},
   "outputs": [],
   "source": []
  },
  {
   "cell_type": "code",
   "execution_count": null,
   "id": "eb5606d0-7762-435e-8dca-2c0b07fbf731",
   "metadata": {},
   "outputs": [],
   "source": []
  }
 ],
 "metadata": {
  "kernelspec": {
   "display_name": "Python 3 (ipykernel)",
   "language": "python",
   "name": "python3"
  },
  "language_info": {
   "codemirror_mode": {
    "name": "ipython",
    "version": 3
   },
   "file_extension": ".py",
   "mimetype": "text/x-python",
   "name": "python",
   "nbconvert_exporter": "python",
   "pygments_lexer": "ipython3",
   "version": "3.10.12"
  }
 },
 "nbformat": 4,
 "nbformat_minor": 5
}
